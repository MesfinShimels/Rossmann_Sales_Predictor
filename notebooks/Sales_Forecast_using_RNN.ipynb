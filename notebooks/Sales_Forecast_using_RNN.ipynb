{
  "cells": [
    {
      "cell_type": "markdown",
      "metadata": {
        "id": "jp4f1fnRA3Z6"
      },
      "source": [
        "Task: Building model with deep learning\n",
        "\n",
        "Deep Learning techniques can be used to predict various outcomes including but not limited to future sales. Your task is to create a deep learning model of the Long Short Term Memory which is a type of Recurrent Neural Network.\n",
        "\n",
        "You can use either Tensorflow or Pytorch libraries for model building. The model should not be very deep (Two layers) due to the computational requirements, it should comfortably run in Google Colab.\n",
        "Isolate the Rossmann Store Sales dataset into time series data     \n",
        "Check whether your time Series Data is Stationary\n",
        "Depending on your conclusion from 2 above differences your time series data\n",
        "Check for autocorrelation and partial autocorrelation of your data\n",
        "Transform the time series data into supervised learning data by creating a new y(target) column. For example, as illustrated here in the Sliding Window For Time Series Data section\n",
        "Scale your data in the (-1, 1) range\n",
        "Build an LSTM Regression model to predict the next sale.\n"
      ]
    },
    {
      "cell_type": "markdown",
      "metadata": {
        "id": "9VBWlApMBA-0"
      },
      "source": [
        "To build an LSTM-based model for time series forecasting (predicting future sales) on the Rossmann Store Sales dataset, we need to go through several steps including data preparation, model building, and evaluation. Here's a detailed guide using TensorFlow and the steps we're looking for:"
      ]
    },
    {
      "cell_type": "markdown",
      "metadata": {
        "id": "p67O2nu2FyX6"
      },
      "source": [
        "**Step-by-Step Implementation**\n",
        "\n",
        "1. Import Required Libraries"
      ]
    },
    {
      "cell_type": "code",
      "execution_count": 34,
      "metadata": {
        "id": "sHFaA_4mF1Lx"
      },
      "outputs": [],
      "source": [
        "# Importing necessary libraries\n",
        "import numpy as np\n",
        "import pandas as pd\n",
        "import matplotlib.pyplot as plt\n",
        "import seaborn as sns\n",
        "import statsmodels.api as sm\n",
        "from sklearn.preprocessing import MinMaxScaler\n",
        "from keras.models import Sequential\n",
        "from keras.layers import LSTM, Dense, Dropout, Input\n",
        "from sklearn.metrics import mean_absolute_error, mean_squared_error\n",
        "from statsmodels.tsa.stattools import adfuller\n",
        "\n"
      ]
    },
    {
      "cell_type": "markdown",
      "metadata": {
        "id": "Ne1UCOI7F8oZ"
      },
      "source": [
        "2. Load the Dataset\n",
        "\n"
      ]
    },
    {
      "cell_type": "code",
      "execution_count": 35,
      "metadata": {
        "id": "wV0bKlCWGEIP"
      },
      "outputs": [],
      "source": [
        "train_data = pd.read_csv('../data/pre_processed/train_processed.csv', low_memory=False)\n",
        "test_data = pd.read_csv('../data/pre_processed/test_processed.csv', low_memory=False)"
      ]
    },
    {
      "cell_type": "code",
      "execution_count": 36,
      "metadata": {
        "colab": {
          "base_uri": "https://localhost:8080/"
        },
        "id": "kfnEYeYl4kBU",
        "outputId": "a3f0da61-6fc5-4f79-bcc2-c8067aeba056"
      },
      "outputs": [
        {
          "data": {
            "text/plain": [
              "Index(['Date', 'DayOfWeek', 'Sales', 'Open', 'Promo', 'StateHoliday',\n",
              "       'SchoolHoliday', 'StoreType', 'Assortment', 'CompetitionDistance',\n",
              "       'Promo2', 'CompetitionDistance_log', 'Sales_winsorized',\n",
              "       'Customers_winsorized', 'Store', 'Weekday', 'IsWeekend', 'Month',\n",
              "       'DaysToHoliday', 'DaysAfterHoliday', 'IsBeginningOfMonth', 'IsMidMonth',\n",
              "       'IsEndOfMonth', 'IsHoliday', 'Promo_duration'],\n",
              "      dtype='object')"
            ]
          },
          "execution_count": 36,
          "metadata": {},
          "output_type": "execute_result"
        }
      ],
      "source": [
        "train_data.columns"
      ]
    },
    {
      "cell_type": "code",
      "execution_count": 37,
      "metadata": {
        "colab": {
          "base_uri": "https://localhost:8080/",
          "height": 342
        },
        "id": "oHw2owdFI5CY",
        "outputId": "38f29c29-4408-4a22-8592-31803279555a"
      },
      "outputs": [
        {
          "data": {
            "text/html": [
              "<div>\n",
              "<style scoped>\n",
              "    .dataframe tbody tr th:only-of-type {\n",
              "        vertical-align: middle;\n",
              "    }\n",
              "\n",
              "    .dataframe tbody tr th {\n",
              "        vertical-align: top;\n",
              "    }\n",
              "\n",
              "    .dataframe thead th {\n",
              "        text-align: right;\n",
              "    }\n",
              "</style>\n",
              "<table border=\"1\" class=\"dataframe\">\n",
              "  <thead>\n",
              "    <tr style=\"text-align: right;\">\n",
              "      <th></th>\n",
              "      <th>Date</th>\n",
              "      <th>DayOfWeek</th>\n",
              "      <th>Sales</th>\n",
              "      <th>Open</th>\n",
              "      <th>Promo</th>\n",
              "      <th>StateHoliday</th>\n",
              "      <th>SchoolHoliday</th>\n",
              "      <th>StoreType</th>\n",
              "      <th>Assortment</th>\n",
              "      <th>CompetitionDistance</th>\n",
              "      <th>...</th>\n",
              "      <th>Weekday</th>\n",
              "      <th>IsWeekend</th>\n",
              "      <th>Month</th>\n",
              "      <th>DaysToHoliday</th>\n",
              "      <th>DaysAfterHoliday</th>\n",
              "      <th>IsBeginningOfMonth</th>\n",
              "      <th>IsMidMonth</th>\n",
              "      <th>IsEndOfMonth</th>\n",
              "      <th>IsHoliday</th>\n",
              "      <th>Promo_duration</th>\n",
              "    </tr>\n",
              "  </thead>\n",
              "  <tbody>\n",
              "    <tr>\n",
              "      <th>0</th>\n",
              "      <td>2015-07-31</td>\n",
              "      <td>5</td>\n",
              "      <td>5263.0</td>\n",
              "      <td>1.0</td>\n",
              "      <td>1.0</td>\n",
              "      <td>0</td>\n",
              "      <td>1.0</td>\n",
              "      <td>2</td>\n",
              "      <td>0</td>\n",
              "      <td>1270.0</td>\n",
              "      <td>...</td>\n",
              "      <td>4</td>\n",
              "      <td>0</td>\n",
              "      <td>7</td>\n",
              "      <td>3069</td>\n",
              "      <td>-3069</td>\n",
              "      <td>0</td>\n",
              "      <td>0</td>\n",
              "      <td>1</td>\n",
              "      <td>1</td>\n",
              "      <td>NaN</td>\n",
              "    </tr>\n",
              "    <tr>\n",
              "      <th>1</th>\n",
              "      <td>2015-07-31</td>\n",
              "      <td>5</td>\n",
              "      <td>6064.0</td>\n",
              "      <td>1.0</td>\n",
              "      <td>1.0</td>\n",
              "      <td>0</td>\n",
              "      <td>1.0</td>\n",
              "      <td>0</td>\n",
              "      <td>0</td>\n",
              "      <td>570.0</td>\n",
              "      <td>...</td>\n",
              "      <td>4</td>\n",
              "      <td>0</td>\n",
              "      <td>7</td>\n",
              "      <td>3069</td>\n",
              "      <td>-3069</td>\n",
              "      <td>0</td>\n",
              "      <td>0</td>\n",
              "      <td>1</td>\n",
              "      <td>1</td>\n",
              "      <td>NaN</td>\n",
              "    </tr>\n",
              "    <tr>\n",
              "      <th>2</th>\n",
              "      <td>2015-07-31</td>\n",
              "      <td>5</td>\n",
              "      <td>8314.0</td>\n",
              "      <td>1.0</td>\n",
              "      <td>1.0</td>\n",
              "      <td>0</td>\n",
              "      <td>1.0</td>\n",
              "      <td>0</td>\n",
              "      <td>0</td>\n",
              "      <td>14130.0</td>\n",
              "      <td>...</td>\n",
              "      <td>4</td>\n",
              "      <td>0</td>\n",
              "      <td>7</td>\n",
              "      <td>3069</td>\n",
              "      <td>-3069</td>\n",
              "      <td>0</td>\n",
              "      <td>0</td>\n",
              "      <td>1</td>\n",
              "      <td>1</td>\n",
              "      <td>NaN</td>\n",
              "    </tr>\n",
              "    <tr>\n",
              "      <th>3</th>\n",
              "      <td>2015-07-31</td>\n",
              "      <td>5</td>\n",
              "      <td>12137.0</td>\n",
              "      <td>1.0</td>\n",
              "      <td>1.0</td>\n",
              "      <td>0</td>\n",
              "      <td>1.0</td>\n",
              "      <td>2</td>\n",
              "      <td>2</td>\n",
              "      <td>620.0</td>\n",
              "      <td>...</td>\n",
              "      <td>4</td>\n",
              "      <td>0</td>\n",
              "      <td>7</td>\n",
              "      <td>3069</td>\n",
              "      <td>-3069</td>\n",
              "      <td>0</td>\n",
              "      <td>0</td>\n",
              "      <td>1</td>\n",
              "      <td>1</td>\n",
              "      <td>NaN</td>\n",
              "    </tr>\n",
              "    <tr>\n",
              "      <th>4</th>\n",
              "      <td>2015-07-31</td>\n",
              "      <td>5</td>\n",
              "      <td>4822.0</td>\n",
              "      <td>1.0</td>\n",
              "      <td>1.0</td>\n",
              "      <td>0</td>\n",
              "      <td>1.0</td>\n",
              "      <td>0</td>\n",
              "      <td>0</td>\n",
              "      <td>29910.0</td>\n",
              "      <td>...</td>\n",
              "      <td>4</td>\n",
              "      <td>0</td>\n",
              "      <td>7</td>\n",
              "      <td>3069</td>\n",
              "      <td>-3069</td>\n",
              "      <td>0</td>\n",
              "      <td>0</td>\n",
              "      <td>1</td>\n",
              "      <td>1</td>\n",
              "      <td>NaN</td>\n",
              "    </tr>\n",
              "  </tbody>\n",
              "</table>\n",
              "<p>5 rows × 25 columns</p>\n",
              "</div>"
            ],
            "text/plain": [
              "         Date  DayOfWeek    Sales  Open  Promo  StateHoliday  SchoolHoliday  \\\n",
              "0  2015-07-31          5   5263.0   1.0    1.0             0            1.0   \n",
              "1  2015-07-31          5   6064.0   1.0    1.0             0            1.0   \n",
              "2  2015-07-31          5   8314.0   1.0    1.0             0            1.0   \n",
              "3  2015-07-31          5  12137.0   1.0    1.0             0            1.0   \n",
              "4  2015-07-31          5   4822.0   1.0    1.0             0            1.0   \n",
              "\n",
              "   StoreType  Assortment  CompetitionDistance  ...  Weekday  IsWeekend  Month  \\\n",
              "0          2           0               1270.0  ...        4          0      7   \n",
              "1          0           0                570.0  ...        4          0      7   \n",
              "2          0           0              14130.0  ...        4          0      7   \n",
              "3          2           2                620.0  ...        4          0      7   \n",
              "4          0           0              29910.0  ...        4          0      7   \n",
              "\n",
              "   DaysToHoliday  DaysAfterHoliday  IsBeginningOfMonth  IsMidMonth  \\\n",
              "0           3069             -3069                   0           0   \n",
              "1           3069             -3069                   0           0   \n",
              "2           3069             -3069                   0           0   \n",
              "3           3069             -3069                   0           0   \n",
              "4           3069             -3069                   0           0   \n",
              "\n",
              "   IsEndOfMonth  IsHoliday  Promo_duration  \n",
              "0             1          1             NaN  \n",
              "1             1          1             NaN  \n",
              "2             1          1             NaN  \n",
              "3             1          1             NaN  \n",
              "4             1          1             NaN  \n",
              "\n",
              "[5 rows x 25 columns]"
            ]
          },
          "execution_count": 37,
          "metadata": {},
          "output_type": "execute_result"
        }
      ],
      "source": [
        "train_data.head()"
      ]
    },
    {
      "cell_type": "code",
      "execution_count": 38,
      "metadata": {
        "colab": {
          "base_uri": "https://localhost:8080/",
          "height": 256
        },
        "id": "nY02I2uJtGF4",
        "outputId": "e9fb7142-2e1d-4f36-e62f-93ab7fda6e91"
      },
      "outputs": [
        {
          "data": {
            "text/html": [
              "<div>\n",
              "<style scoped>\n",
              "    .dataframe tbody tr th:only-of-type {\n",
              "        vertical-align: middle;\n",
              "    }\n",
              "\n",
              "    .dataframe tbody tr th {\n",
              "        vertical-align: top;\n",
              "    }\n",
              "\n",
              "    .dataframe thead th {\n",
              "        text-align: right;\n",
              "    }\n",
              "</style>\n",
              "<table border=\"1\" class=\"dataframe\">\n",
              "  <thead>\n",
              "    <tr style=\"text-align: right;\">\n",
              "      <th></th>\n",
              "      <th>Id</th>\n",
              "      <th>DayOfWeek</th>\n",
              "      <th>Open</th>\n",
              "      <th>Promo</th>\n",
              "      <th>StateHoliday</th>\n",
              "      <th>SchoolHoliday</th>\n",
              "      <th>StoreType</th>\n",
              "      <th>Assortment</th>\n",
              "      <th>CompetitionDistance</th>\n",
              "      <th>Promo2</th>\n",
              "      <th>...</th>\n",
              "      <th>Weekday</th>\n",
              "      <th>IsWeekend</th>\n",
              "      <th>Month</th>\n",
              "      <th>DaysToHoliday</th>\n",
              "      <th>DaysAfterHoliday</th>\n",
              "      <th>IsBeginningOfMonth</th>\n",
              "      <th>IsMidMonth</th>\n",
              "      <th>IsEndOfMonth</th>\n",
              "      <th>IsHoliday</th>\n",
              "      <th>Promo_duration</th>\n",
              "    </tr>\n",
              "  </thead>\n",
              "  <tbody>\n",
              "    <tr>\n",
              "      <th>0</th>\n",
              "      <td>1</td>\n",
              "      <td>4</td>\n",
              "      <td>1.0</td>\n",
              "      <td>1.0</td>\n",
              "      <td>0</td>\n",
              "      <td>0.0</td>\n",
              "      <td>2</td>\n",
              "      <td>0</td>\n",
              "      <td>1270.0</td>\n",
              "      <td>0</td>\n",
              "      <td>...</td>\n",
              "      <td>3</td>\n",
              "      <td>0</td>\n",
              "      <td>9</td>\n",
              "      <td>3021</td>\n",
              "      <td>-3021</td>\n",
              "      <td>0</td>\n",
              "      <td>1</td>\n",
              "      <td>0</td>\n",
              "      <td>0</td>\n",
              "      <td>1.0</td>\n",
              "    </tr>\n",
              "    <tr>\n",
              "      <th>1</th>\n",
              "      <td>2</td>\n",
              "      <td>4</td>\n",
              "      <td>1.0</td>\n",
              "      <td>1.0</td>\n",
              "      <td>0</td>\n",
              "      <td>0.0</td>\n",
              "      <td>0</td>\n",
              "      <td>0</td>\n",
              "      <td>14130.0</td>\n",
              "      <td>1</td>\n",
              "      <td>...</td>\n",
              "      <td>3</td>\n",
              "      <td>0</td>\n",
              "      <td>9</td>\n",
              "      <td>3021</td>\n",
              "      <td>-3021</td>\n",
              "      <td>0</td>\n",
              "      <td>1</td>\n",
              "      <td>0</td>\n",
              "      <td>0</td>\n",
              "      <td>1.0</td>\n",
              "    </tr>\n",
              "    <tr>\n",
              "      <th>2</th>\n",
              "      <td>3</td>\n",
              "      <td>4</td>\n",
              "      <td>1.0</td>\n",
              "      <td>1.0</td>\n",
              "      <td>0</td>\n",
              "      <td>0.0</td>\n",
              "      <td>0</td>\n",
              "      <td>2</td>\n",
              "      <td>24000.0</td>\n",
              "      <td>0</td>\n",
              "      <td>...</td>\n",
              "      <td>3</td>\n",
              "      <td>0</td>\n",
              "      <td>9</td>\n",
              "      <td>3021</td>\n",
              "      <td>-3021</td>\n",
              "      <td>0</td>\n",
              "      <td>1</td>\n",
              "      <td>0</td>\n",
              "      <td>0</td>\n",
              "      <td>1.0</td>\n",
              "    </tr>\n",
              "    <tr>\n",
              "      <th>3</th>\n",
              "      <td>4</td>\n",
              "      <td>4</td>\n",
              "      <td>1.0</td>\n",
              "      <td>1.0</td>\n",
              "      <td>0</td>\n",
              "      <td>0.0</td>\n",
              "      <td>0</td>\n",
              "      <td>0</td>\n",
              "      <td>7520.0</td>\n",
              "      <td>0</td>\n",
              "      <td>...</td>\n",
              "      <td>3</td>\n",
              "      <td>0</td>\n",
              "      <td>9</td>\n",
              "      <td>3021</td>\n",
              "      <td>-3021</td>\n",
              "      <td>0</td>\n",
              "      <td>1</td>\n",
              "      <td>0</td>\n",
              "      <td>0</td>\n",
              "      <td>1.0</td>\n",
              "    </tr>\n",
              "    <tr>\n",
              "      <th>4</th>\n",
              "      <td>5</td>\n",
              "      <td>4</td>\n",
              "      <td>1.0</td>\n",
              "      <td>1.0</td>\n",
              "      <td>0</td>\n",
              "      <td>0.0</td>\n",
              "      <td>0</td>\n",
              "      <td>2</td>\n",
              "      <td>2030.0</td>\n",
              "      <td>0</td>\n",
              "      <td>...</td>\n",
              "      <td>3</td>\n",
              "      <td>0</td>\n",
              "      <td>9</td>\n",
              "      <td>3021</td>\n",
              "      <td>-3021</td>\n",
              "      <td>0</td>\n",
              "      <td>1</td>\n",
              "      <td>0</td>\n",
              "      <td>0</td>\n",
              "      <td>1.0</td>\n",
              "    </tr>\n",
              "  </tbody>\n",
              "</table>\n",
              "<p>5 rows × 24 columns</p>\n",
              "</div>"
            ],
            "text/plain": [
              "   Id  DayOfWeek  Open  Promo  StateHoliday  SchoolHoliday  StoreType  \\\n",
              "0   1          4   1.0    1.0             0            0.0          2   \n",
              "1   2          4   1.0    1.0             0            0.0          0   \n",
              "2   3          4   1.0    1.0             0            0.0          0   \n",
              "3   4          4   1.0    1.0             0            0.0          0   \n",
              "4   5          4   1.0    1.0             0            0.0          0   \n",
              "\n",
              "   Assortment  CompetitionDistance  Promo2  ...  Weekday  IsWeekend  Month  \\\n",
              "0           0               1270.0       0  ...        3          0      9   \n",
              "1           0              14130.0       1  ...        3          0      9   \n",
              "2           2              24000.0       0  ...        3          0      9   \n",
              "3           0               7520.0       0  ...        3          0      9   \n",
              "4           2               2030.0       0  ...        3          0      9   \n",
              "\n",
              "   DaysToHoliday  DaysAfterHoliday  IsBeginningOfMonth  IsMidMonth  \\\n",
              "0           3021             -3021                   0           1   \n",
              "1           3021             -3021                   0           1   \n",
              "2           3021             -3021                   0           1   \n",
              "3           3021             -3021                   0           1   \n",
              "4           3021             -3021                   0           1   \n",
              "\n",
              "   IsEndOfMonth  IsHoliday  Promo_duration  \n",
              "0             0          0             1.0  \n",
              "1             0          0             1.0  \n",
              "2             0          0             1.0  \n",
              "3             0          0             1.0  \n",
              "4             0          0             1.0  \n",
              "\n",
              "[5 rows x 24 columns]"
            ]
          },
          "execution_count": 38,
          "metadata": {},
          "output_type": "execute_result"
        }
      ],
      "source": [
        "test_data.head()"
      ]
    },
    {
      "cell_type": "markdown",
      "metadata": {
        "id": "cpCFqq_hBIu9"
      },
      "source": [
        "**Step 3:** Isolate the Rossmann Store Sales Dataset for Time Series Analysis\n",
        "\n",
        "First, we'll isolate the data for a single store, as LSTMs are typically used for time series analysis on a specific sequence."
      ]
    },
    {
      "cell_type": "code",
      "execution_count": 39,
      "metadata": {
        "id": "RI8p5teoBSZY"
      },
      "outputs": [],
      "source": [
        "train_data['Date'] = pd.to_datetime(train_data['Date'])\n",
        "data = train_data[['Date', 'Store', 'Sales']]\n",
        "\n",
        "# Filter for a specific store (e.g., Store 1)\n",
        "store_data = data[data['Store'] == 1]\n",
        "store_data.set_index('Date', inplace=True)\n",
        "store_data = store_data.resample('D').sum()  # Daily sales sum\n"
      ]
    },
    {
      "cell_type": "markdown",
      "metadata": {
        "id": "Q2Km2uoyCkov"
      },
      "source": [
        "**Step 4:** Check Whether the Time Series Data is Stationary\n",
        "A stationary time series has constant mean and variance over time.\n",
        "\n",
        "One way to check this is through the Augmented Dickey-Fuller (ADF) test."
      ]
    },
    {
      "cell_type": "code",
      "execution_count": 40,
      "metadata": {},
      "outputs": [
        {
          "name": "stdout",
          "output_type": "stream",
          "text": [
            "0\n",
            "0\n"
          ]
        }
      ],
      "source": [
        "print(store_data['Sales'].isnull().sum())  # Check for missing values\n",
        "print(len(store_data['Sales']))  # Check the number of rows"
      ]
    },
    {
      "cell_type": "code",
      "execution_count": 41,
      "metadata": {
        "colab": {
          "base_uri": "https://localhost:8080/"
        },
        "id": "2UAmPd1fCoAd",
        "outputId": "556621ad-8fd3-428c-8bfd-d462c390d65a"
      },
      "outputs": [
        {
          "ename": "ValueError",
          "evalue": "zero-size array to reduction operation maximum which has no identity",
          "output_type": "error",
          "traceback": [
            "\u001b[1;31m---------------------------------------------------------------------------\u001b[0m",
            "\u001b[1;31mValueError\u001b[0m                                Traceback (most recent call last)",
            "Cell \u001b[1;32mIn[41], line 4\u001b[0m\n\u001b[0;32m      1\u001b[0m \u001b[38;5;66;03m# Check stationarity for a specific store\u001b[39;00m\n\u001b[0;32m      2\u001b[0m \u001b[38;5;66;03m# Perform the ADF test\u001b[39;00m\n\u001b[0;32m      3\u001b[0m \u001b[38;5;28;01mfrom\u001b[39;00m\u001b[38;5;250m \u001b[39m\u001b[38;5;21;01mstatsmodels\u001b[39;00m\u001b[38;5;21;01m.\u001b[39;00m\u001b[38;5;21;01mtsa\u001b[39;00m\u001b[38;5;21;01m.\u001b[39;00m\u001b[38;5;21;01mstattools\u001b[39;00m\u001b[38;5;250m \u001b[39m\u001b[38;5;28;01mimport\u001b[39;00m adfuller\n\u001b[1;32m----> 4\u001b[0m adf_result \u001b[38;5;241m=\u001b[39m \u001b[43madfuller\u001b[49m\u001b[43m(\u001b[49m\u001b[43mstore_data\u001b[49m\u001b[43m[\u001b[49m\u001b[38;5;124;43m'\u001b[39;49m\u001b[38;5;124;43mSales\u001b[39;49m\u001b[38;5;124;43m'\u001b[39;49m\u001b[43m]\u001b[49m\u001b[43m)\u001b[49m\n\u001b[0;32m      6\u001b[0m \u001b[38;5;66;03m# Output the ADF statistic and p-value\u001b[39;00m\n\u001b[0;32m      7\u001b[0m \u001b[38;5;28mprint\u001b[39m(\u001b[38;5;124mf\u001b[39m\u001b[38;5;124m'\u001b[39m\u001b[38;5;124mADF Statistic: \u001b[39m\u001b[38;5;132;01m{\u001b[39;00madf_result[\u001b[38;5;241m0\u001b[39m]\u001b[38;5;132;01m}\u001b[39;00m\u001b[38;5;124m'\u001b[39m)\n",
            "File \u001b[1;32md:\\KMAI3\\Pharmaceuticals\\.venvpr\\lib\\site-packages\\statsmodels\\tsa\\stattools.py:274\u001b[0m, in \u001b[0;36madfuller\u001b[1;34m(x, maxlag, regression, autolag, store, regresults)\u001b[0m\n\u001b[0;32m    271\u001b[0m store \u001b[38;5;241m=\u001b[39m bool_like(store, \u001b[38;5;124m\"\u001b[39m\u001b[38;5;124mstore\u001b[39m\u001b[38;5;124m\"\u001b[39m)\n\u001b[0;32m    272\u001b[0m regresults \u001b[38;5;241m=\u001b[39m bool_like(regresults, \u001b[38;5;124m\"\u001b[39m\u001b[38;5;124mregresults\u001b[39m\u001b[38;5;124m\"\u001b[39m)\n\u001b[1;32m--> 274\u001b[0m \u001b[38;5;28;01mif\u001b[39;00m \u001b[43mx\u001b[49m\u001b[38;5;241;43m.\u001b[39;49m\u001b[43mmax\u001b[49m\u001b[43m(\u001b[49m\u001b[43m)\u001b[49m \u001b[38;5;241m==\u001b[39m x\u001b[38;5;241m.\u001b[39mmin():\n\u001b[0;32m    275\u001b[0m     \u001b[38;5;28;01mraise\u001b[39;00m \u001b[38;5;167;01mValueError\u001b[39;00m(\u001b[38;5;124m\"\u001b[39m\u001b[38;5;124mInvalid input, x is constant\u001b[39m\u001b[38;5;124m\"\u001b[39m)\n\u001b[0;32m    277\u001b[0m \u001b[38;5;28;01mif\u001b[39;00m regresults:\n",
            "File \u001b[1;32md:\\KMAI3\\Pharmaceuticals\\.venvpr\\lib\\site-packages\\numpy\\_core\\_methods.py:44\u001b[0m, in \u001b[0;36m_amax\u001b[1;34m(a, axis, out, keepdims, initial, where)\u001b[0m\n\u001b[0;32m     42\u001b[0m \u001b[38;5;28;01mdef\u001b[39;00m\u001b[38;5;250m \u001b[39m\u001b[38;5;21m_amax\u001b[39m(a, axis\u001b[38;5;241m=\u001b[39m\u001b[38;5;28;01mNone\u001b[39;00m, out\u001b[38;5;241m=\u001b[39m\u001b[38;5;28;01mNone\u001b[39;00m, keepdims\u001b[38;5;241m=\u001b[39m\u001b[38;5;28;01mFalse\u001b[39;00m,\n\u001b[0;32m     43\u001b[0m           initial\u001b[38;5;241m=\u001b[39m_NoValue, where\u001b[38;5;241m=\u001b[39m\u001b[38;5;28;01mTrue\u001b[39;00m):\n\u001b[1;32m---> 44\u001b[0m     \u001b[38;5;28;01mreturn\u001b[39;00m \u001b[43mumr_maximum\u001b[49m\u001b[43m(\u001b[49m\u001b[43ma\u001b[49m\u001b[43m,\u001b[49m\u001b[43m \u001b[49m\u001b[43maxis\u001b[49m\u001b[43m,\u001b[49m\u001b[43m \u001b[49m\u001b[38;5;28;43;01mNone\u001b[39;49;00m\u001b[43m,\u001b[49m\u001b[43m \u001b[49m\u001b[43mout\u001b[49m\u001b[43m,\u001b[49m\u001b[43m \u001b[49m\u001b[43mkeepdims\u001b[49m\u001b[43m,\u001b[49m\u001b[43m \u001b[49m\u001b[43minitial\u001b[49m\u001b[43m,\u001b[49m\u001b[43m \u001b[49m\u001b[43mwhere\u001b[49m\u001b[43m)\u001b[49m\n",
            "\u001b[1;31mValueError\u001b[0m: zero-size array to reduction operation maximum which has no identity"
          ]
        }
      ],
      "source": [
        "# Check stationarity for a specific store\n",
        "# Perform the ADF test\n",
        "from statsmodels.tsa.stattools import adfuller\n",
        "adf_result = adfuller(store_data['Sales'])\n",
        "\n",
        "# Output the ADF statistic and p-value\n",
        "print(f'ADF Statistic: {adf_result[0]}')\n",
        "print(f'p-value: {adf_result[1]}')\n",
        "\n",
        "# If p-value is < 0.05, the time series is stationary.\n",
        "if adf_result[1] < 0.05:\n",
        "    print(\"Time series is stationary\")\n",
        "else:\n",
        "    print(\"Time series is not stationary\")\n"
      ]
    },
    {
      "cell_type": "markdown",
      "metadata": {
        "id": "B8bKhpZfCzfX"
      },
      "source": [
        "**Step 4:** Difference the Time Series if Non-Stationary\n",
        "\n",
        "If the time series is non-stationary (p-value > 0.05), we need to difference it to make it stationary.\n",
        "\n",
        "Differencing helps by subtracting the previous value from the current value."
      ]
    },
    {
      "cell_type": "code",
      "execution_count": 42,
      "metadata": {
        "id": "M-SKBlc6CwRG"
      },
      "outputs": [
        {
          "ename": "NameError",
          "evalue": "name 'adf_result' is not defined",
          "output_type": "error",
          "traceback": [
            "\u001b[1;31m---------------------------------------------------------------------------\u001b[0m",
            "\u001b[1;31mNameError\u001b[0m                                 Traceback (most recent call last)",
            "Cell \u001b[1;32mIn[42], line 2\u001b[0m\n\u001b[0;32m      1\u001b[0m \u001b[38;5;66;03m# Difference the series (store_data is a Series, no need to reference 'Sales')\u001b[39;00m\n\u001b[1;32m----> 2\u001b[0m \u001b[38;5;28;01mif\u001b[39;00m \u001b[43madf_result\u001b[49m[\u001b[38;5;241m1\u001b[39m] \u001b[38;5;241m>\u001b[39m\u001b[38;5;241m=\u001b[39m \u001b[38;5;241m0.05\u001b[39m:\n\u001b[0;32m      3\u001b[0m     store_data[\u001b[38;5;124m'\u001b[39m\u001b[38;5;124mSales\u001b[39m\u001b[38;5;124m'\u001b[39m] \u001b[38;5;241m=\u001b[39m store_data[\u001b[38;5;124m'\u001b[39m\u001b[38;5;124mSales\u001b[39m\u001b[38;5;124m'\u001b[39m]\u001b[38;5;241m.\u001b[39mdiff()\u001b[38;5;241m.\u001b[39mdropna()\n",
            "\u001b[1;31mNameError\u001b[0m: name 'adf_result' is not defined"
          ]
        }
      ],
      "source": [
        "# Difference the series (store_data is a Series, no need to reference 'Sales')\n",
        "if adf_result[1] >= 0.05:\n",
        "    store_data['Sales'] = store_data['Sales'].diff().dropna()\n",
        "\n",
        "\n"
      ]
    },
    {
      "cell_type": "markdown",
      "metadata": {
        "id": "VirWM0UVDGyz"
      },
      "source": [
        "**Step 6:** Autocorrelation and Partial Autocorrelation Analysis\n",
        "\n",
        "The autocorrelation (ACF) and partial autocorrelation (PACF) help us understand the lag relationship in the data."
      ]
    },
    {
      "cell_type": "code",
      "execution_count": null,
      "metadata": {
        "colab": {
          "base_uri": "https://localhost:8080/",
          "height": 657
        },
        "id": "NZRWiQ7PDIM-",
        "outputId": "33d218b5-289e-4d90-da99-422592341549"
      },
      "outputs": [],
      "source": [
        "# Autocorrelation and Partial Autocorrelation plots\n",
        "fig, ax = plt.subplots(2, 1, figsize=(12, 8))\n",
        "sm.graphics.tsa.plot_acf(store_data['Sales'].dropna(), lags=30, ax=ax[0])\n",
        "sm.graphics.tsa.plot_pacf(store_data['Sales'].dropna(), lags=30, ax=ax[1])\n",
        "plt.show()\n"
      ]
    },
    {
      "cell_type": "markdown",
      "metadata": {
        "id": "A1nw9I-tDRzR"
      },
      "source": [
        "**Step 7:** Transform Data into Supervised Learning (Sliding Window)\n",
        "\n",
        "We need to transform the time series data into a supervised learning problem by creating sliding windows (or look-back windows)."
      ]
    },
    {
      "cell_type": "code",
      "execution_count": 93,
      "metadata": {
        "id": "Auyrx7qGDSyf"
      },
      "outputs": [],
      "source": [
        "# Create a function to convert time series data to supervised learning data\n",
        "def create_dataset(data, time_step=1):\n",
        "    X, y = [], []\n",
        "    for i in range(len(data) - time_step - 1):\n",
        "        X.append(data[i:(i + time_step), 0])\n",
        "        y.append(data[i + time_step, 0])\n",
        "    return np.array(X), np.array(y)\n",
        "\n",
        "# Define time steps\n",
        "time_step = 10\n",
        "data_scaled = MinMaxScaler(feature_range=(-1, 1)).fit_transform(store_data['Sales'].values.reshape(-1, 1))\n",
        "X, y = create_dataset(data_scaled, time_step)\n",
        "\n",
        "# Reshape input to be [samples, time steps, features]\n",
        "X = X.reshape(X.shape[0], X.shape[1], 1)\n"
      ]
    },
    {
      "cell_type": "markdown",
      "metadata": {
        "id": "RftaYobJDaNi"
      },
      "source": [
        "**Step 8:** Scale the Data\n",
        "LSTMs perform better when the data is scaled to a range like (-1, 1).\n",
        "\n",
        "We can use the MinMaxScaler to achieve this."
      ]
    },
    {
      "cell_type": "code",
      "execution_count": 104,
      "metadata": {
        "id": "W1PD-h7SDZpL"
      },
      "outputs": [],
      "source": [
        "# Scale the data\n",
        "scaler = MinMaxScaler(feature_range=(-1, 1))\n",
        "data_scaled = scaler.fit_transform(store_data['Sales'].values.reshape(-1, 1))\n",
        "\n",
        "# Create dataset for LSTM\n",
        "X, y = create_dataset(data_scaled, time_step)\n",
        "X = X.reshape(X.shape[0], X.shape[1], 1)"
      ]
    },
    {
      "cell_type": "markdown",
      "metadata": {
        "id": "23H8PhiWDZ1U"
      },
      "source": [
        "**Step 9:** Build an LSTM Model\n",
        "\n",
        "Now that the data is prepared, we can build a simple LSTM model using TensorFlow (Keras)."
      ]
    },
    {
      "cell_type": "code",
      "execution_count": null,
      "metadata": {
        "colab": {
          "base_uri": "https://localhost:8080/"
        },
        "id": "vbxRiB2eDhMS",
        "outputId": "d2f18095-0534-45f5-ff7c-edb042f1813b"
      },
      "outputs": [],
      "source": [
        "# Build LSTM Regression model\n",
        "model = Sequential()\n",
        "model.add(Input(shape=(time_step, 1)))  # Define the input shape\n",
        "model.add(LSTM(50, return_sequences=True))\n",
        "model.add(Dropout(0.2))\n",
        "model.add(LSTM(50, return_sequences=False))\n",
        "model.add(Dropout(0.2))\n",
        "model.add(Dense(1))\n",
        "\n",
        "model.compile(optimizer='adam', loss='mean_squared_error')\n",
        "# Fit the model and store the history\n",
        "history = model.fit(X, y, epochs=50, batch_size=32, validation_split=0.2)\n"
      ]
    },
    {
      "cell_type": "code",
      "execution_count": null,
      "metadata": {
        "colab": {
          "base_uri": "https://localhost:8080/",
          "height": 472
        },
        "id": "2slLS947uPQ1",
        "outputId": "f680557f-355f-4d48-d515-9afb8caf69fa"
      },
      "outputs": [],
      "source": [
        "plt.plot(history.history['loss'], label='Train Loss')\n",
        "plt.plot(history.history['val_loss'], label='Validation Loss')\n",
        "plt.title('Model Loss')\n",
        "plt.ylabel('Loss')\n",
        "plt.xlabel('Epoch')\n",
        "plt.legend()\n",
        "plt.show()\n"
      ]
    },
    {
      "cell_type": "markdown",
      "metadata": {
        "id": "30ZgqkciDrhL"
      },
      "source": [
        "**Step 10:** Make Predictions\n",
        "After training, we can predict future sales."
      ]
    },
    {
      "cell_type": "code",
      "execution_count": null,
      "metadata": {
        "colab": {
          "base_uri": "https://localhost:8080/"
        },
        "id": "meIKeQwFDuR5",
        "outputId": "2ef97590-3521-4b7e-8e8e-d96141754189"
      },
      "outputs": [],
      "source": [
        "# Make predictions\n",
        "predicted_sales = model.predict(X)\n",
        "\n",
        "# Inverse transform to get actual sales values\n",
        "predicted_sales = scaler.inverse_transform(predicted_sales.reshape(-1, 1))\n"
      ]
    },
    {
      "cell_type": "markdown",
      "metadata": {
        "id": "eEHSrYm43oOW"
      },
      "source": [
        "**Step 11:** Visualize the result"
      ]
    },
    {
      "cell_type": "code",
      "execution_count": null,
      "metadata": {
        "colab": {
          "base_uri": "https://localhost:8080/",
          "height": 494
        },
        "id": "Zfqp1OUn3Vxx",
        "outputId": "b71e9b93-f71a-4c06-ca44-a7936b6c8543"
      },
      "outputs": [],
      "source": [
        "# Plot the results\n",
        "plt.figure(figsize=(12, 6))\n",
        "plt.plot(store_data.index[time_step+1:], store_data['Sales'][time_step+1:], label='Actual Sales')\n",
        "plt.plot(store_data.index[time_step+1:], predicted_sales, label='Predicted Sales')\n",
        "plt.legend()\n",
        "plt.show()\n"
      ]
    },
    {
      "cell_type": "markdown",
      "metadata": {
        "id": "7o1GRFJIDxMm"
      },
      "source": [
        "**Step 12:** Evaluate the Model\n",
        "\n",
        "We can evaluate the model using various metrics such as Mean Squared Error (MSE) or Root Mean Squared Error (RMSE) or RMSLE."
      ]
    },
    {
      "cell_type": "code",
      "execution_count": null,
      "metadata": {
        "colab": {
          "base_uri": "https://localhost:8080/"
        },
        "id": "qi8zyDCuzQfV",
        "outputId": "660e37b1-b313-4d7b-d051-0ddbfb31e9ac"
      },
      "outputs": [],
      "source": [
        "# Calculate evaluation metrics\n",
        "mae = mean_absolute_error(store_data['Sales'][time_step+1:], predicted_sales)\n",
        "mse = mean_squared_error(store_data['Sales'][time_step+1:], predicted_sales)\n",
        "rmse = np.sqrt(mse)\n",
        "\n",
        "print(f'Mean Absolute Error (MAE): {mae}')\n",
        "print(f'Mean Squared Error (MSE): {mse}')\n",
        "print(f'Root Mean Squared Error (RMSE): {rmse}')\n",
        "\n"
      ]
    }
  ],
  "metadata": {
    "colab": {
      "provenance": []
    },
    "kernelspec": {
      "display_name": ".venvpr",
      "language": "python",
      "name": "python3"
    },
    "language_info": {
      "codemirror_mode": {
        "name": "ipython",
        "version": 3
      },
      "file_extension": ".py",
      "mimetype": "text/x-python",
      "name": "python",
      "nbconvert_exporter": "python",
      "pygments_lexer": "ipython3",
      "version": "3.9.12"
    }
  },
  "nbformat": 4,
  "nbformat_minor": 0
}
