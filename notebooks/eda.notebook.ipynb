{
 "cells": [
  {
   "cell_type": "markdown",
   "metadata": {},
   "source": [
    "## 1. Introduction\n",
    "- **Objective:** Understand customer purchasing behavior and the impact of various factors on sales.\n",
    "- **Dataset Overview:** Description of dataset features and target variable.\n"
   ]
  },
  {
   "cell_type": "markdown",
   "metadata": {},
   "source": [
    "## 2. Data Loading and Setup\n"
   ]
  },
  {
   "cell_type": "code",
   "execution_count": 1,
   "metadata": {},
   "outputs": [
    {
     "name": "stderr",
     "output_type": "stream",
     "text": [
      "2025-01-03 18:44:23,496 - INFO - Imported libraries and configured logging.\n"
     ]
    }
   ],
   "source": [
    "# Import necessary libraries\n",
    "import pandas as pd\n",
    "import numpy as np\n",
    "import matplotlib.pyplot as plt\n",
    "import seaborn as sns\n",
    "from scipy.stats.mstats import winsorize\n",
    "import logging\n",
    "import os, sys\n",
    "# Add the 'scripts' directory to the Python path for module imports\n",
    "sys.path.append(os.path.abspath(os.path.join('..', 'scripts')))\n",
    "# Set max rows and columns to display\n",
    "pd.set_option('display.max_columns', 200)\n",
    "pd.set_option('display.max_rows', 200)\n",
    "\n",
    "# Configure logging\n",
    "logging.basicConfig(level=logging.INFO, \n",
    "                    format='%(asctime)s - %(levelname)s - %(message)s')\n",
    "logger = logging.getLogger(__name__)\n",
    "\n",
    "logger.info(\"Imported libraries and configured logging.\")"
   ]
  },
  {
   "cell_type": "code",
   "execution_count": 2,
   "metadata": {},
   "outputs": [
    {
     "name": "stderr",
     "output_type": "stream",
     "text": [
      "d:\\KMAI3\\Pharmaceuticals\\scripts\\load_data.py:30: DtypeWarning: Columns (7) have mixed types. Specify dtype option on import or set low_memory=False.\n",
      "  return pd.read_csv(file_path, index_col=0)\n"
     ]
    },
    {
     "name": "stdout",
     "output_type": "stream",
     "text": [
      "Data successfully loaded.\n"
     ]
    },
    {
     "data": {
      "text/html": [
       "<div>\n",
       "<style scoped>\n",
       "    .dataframe tbody tr th:only-of-type {\n",
       "        vertical-align: middle;\n",
       "    }\n",
       "\n",
       "    .dataframe tbody tr th {\n",
       "        vertical-align: top;\n",
       "    }\n",
       "\n",
       "    .dataframe thead th {\n",
       "        text-align: right;\n",
       "    }\n",
       "</style>\n",
       "<table border=\"1\" class=\"dataframe\">\n",
       "  <thead>\n",
       "    <tr style=\"text-align: right;\">\n",
       "      <th></th>\n",
       "      <th>DayOfWeek</th>\n",
       "      <th>Date</th>\n",
       "      <th>Sales</th>\n",
       "      <th>Customers</th>\n",
       "      <th>Open</th>\n",
       "      <th>Promo</th>\n",
       "      <th>StateHoliday</th>\n",
       "      <th>SchoolHoliday</th>\n",
       "    </tr>\n",
       "    <tr>\n",
       "      <th>Store</th>\n",
       "      <th></th>\n",
       "      <th></th>\n",
       "      <th></th>\n",
       "      <th></th>\n",
       "      <th></th>\n",
       "      <th></th>\n",
       "      <th></th>\n",
       "      <th></th>\n",
       "    </tr>\n",
       "  </thead>\n",
       "  <tbody>\n",
       "    <tr>\n",
       "      <th>1</th>\n",
       "      <td>5</td>\n",
       "      <td>2015-07-31</td>\n",
       "      <td>5263</td>\n",
       "      <td>555</td>\n",
       "      <td>1</td>\n",
       "      <td>1</td>\n",
       "      <td>0</td>\n",
       "      <td>1</td>\n",
       "    </tr>\n",
       "    <tr>\n",
       "      <th>2</th>\n",
       "      <td>5</td>\n",
       "      <td>2015-07-31</td>\n",
       "      <td>6064</td>\n",
       "      <td>625</td>\n",
       "      <td>1</td>\n",
       "      <td>1</td>\n",
       "      <td>0</td>\n",
       "      <td>1</td>\n",
       "    </tr>\n",
       "    <tr>\n",
       "      <th>3</th>\n",
       "      <td>5</td>\n",
       "      <td>2015-07-31</td>\n",
       "      <td>8314</td>\n",
       "      <td>821</td>\n",
       "      <td>1</td>\n",
       "      <td>1</td>\n",
       "      <td>0</td>\n",
       "      <td>1</td>\n",
       "    </tr>\n",
       "    <tr>\n",
       "      <th>4</th>\n",
       "      <td>5</td>\n",
       "      <td>2015-07-31</td>\n",
       "      <td>13995</td>\n",
       "      <td>1498</td>\n",
       "      <td>1</td>\n",
       "      <td>1</td>\n",
       "      <td>0</td>\n",
       "      <td>1</td>\n",
       "    </tr>\n",
       "    <tr>\n",
       "      <th>5</th>\n",
       "      <td>5</td>\n",
       "      <td>2015-07-31</td>\n",
       "      <td>4822</td>\n",
       "      <td>559</td>\n",
       "      <td>1</td>\n",
       "      <td>1</td>\n",
       "      <td>0</td>\n",
       "      <td>1</td>\n",
       "    </tr>\n",
       "  </tbody>\n",
       "</table>\n",
       "</div>"
      ],
      "text/plain": [
       "       DayOfWeek        Date  Sales  Customers  Open  Promo StateHoliday  \\\n",
       "Store                                                                      \n",
       "1              5  2015-07-31   5263        555     1      1            0   \n",
       "2              5  2015-07-31   6064        625     1      1            0   \n",
       "3              5  2015-07-31   8314        821     1      1            0   \n",
       "4              5  2015-07-31  13995       1498     1      1            0   \n",
       "5              5  2015-07-31   4822        559     1      1            0   \n",
       "\n",
       "       SchoolHoliday  \n",
       "Store                 \n",
       "1                  1  \n",
       "2                  1  \n",
       "3                  1  \n",
       "4                  1  \n",
       "5                  1  "
      ]
     },
     "metadata": {},
     "output_type": "display_data"
    },
    {
     "name": "stderr",
     "output_type": "stream",
     "text": [
      "2025-01-03 18:44:40,306 - INFO - Data loaded successfully.\n"
     ]
    }
   ],
   "source": [
    "# Import load_data\n",
    "from load_data import load_data\n",
    "if __name__ == \"__main__\":\n",
    "    # Define file paths and names\n",
    "    zip_file_path = '../Data/raw/rossmann-store-sales.zip'\n",
    "    extract_to_folder = '../data/extracted'\n",
    "    train = 'train.csv'  # Replace with the actual file name if different\n",
    "    test = 'test.csv'\n",
    "    store = 'store.csv'\n",
    "\n",
    "    # Load the dataset\n",
    "    try:\n",
    "        train_data = load_data(zip_file_path, train, extract_to_folder)\n",
    "        test_data = load_data(zip_file_path, test, extract_to_folder)\n",
    "        store_data =  load_data(zip_file_path, store, extract_to_folder)\n",
    "        print(\"Data successfully loaded.\")\n",
    "        display(train_data.head())\n",
    "    except FileNotFoundError as e:\n",
    "        print(e)\n",
    "logger.info(\"Data loaded successfully.\")"
   ]
  },
  {
   "cell_type": "code",
   "execution_count": 3,
   "metadata": {},
   "outputs": [
    {
     "data": {
      "text/html": [
       "<div>\n",
       "<style scoped>\n",
       "    .dataframe tbody tr th:only-of-type {\n",
       "        vertical-align: middle;\n",
       "    }\n",
       "\n",
       "    .dataframe tbody tr th {\n",
       "        vertical-align: top;\n",
       "    }\n",
       "\n",
       "    .dataframe thead th {\n",
       "        text-align: right;\n",
       "    }\n",
       "</style>\n",
       "<table border=\"1\" class=\"dataframe\">\n",
       "  <thead>\n",
       "    <tr style=\"text-align: right;\">\n",
       "      <th></th>\n",
       "      <th>Store</th>\n",
       "      <th>DayOfWeek</th>\n",
       "      <th>Date</th>\n",
       "      <th>Open</th>\n",
       "      <th>Promo</th>\n",
       "      <th>StateHoliday</th>\n",
       "      <th>SchoolHoliday</th>\n",
       "    </tr>\n",
       "    <tr>\n",
       "      <th>Id</th>\n",
       "      <th></th>\n",
       "      <th></th>\n",
       "      <th></th>\n",
       "      <th></th>\n",
       "      <th></th>\n",
       "      <th></th>\n",
       "      <th></th>\n",
       "    </tr>\n",
       "  </thead>\n",
       "  <tbody>\n",
       "    <tr>\n",
       "      <th>1</th>\n",
       "      <td>1</td>\n",
       "      <td>4</td>\n",
       "      <td>2015-09-17</td>\n",
       "      <td>1.0</td>\n",
       "      <td>1</td>\n",
       "      <td>0</td>\n",
       "      <td>0</td>\n",
       "    </tr>\n",
       "    <tr>\n",
       "      <th>2</th>\n",
       "      <td>3</td>\n",
       "      <td>4</td>\n",
       "      <td>2015-09-17</td>\n",
       "      <td>1.0</td>\n",
       "      <td>1</td>\n",
       "      <td>0</td>\n",
       "      <td>0</td>\n",
       "    </tr>\n",
       "    <tr>\n",
       "      <th>3</th>\n",
       "      <td>7</td>\n",
       "      <td>4</td>\n",
       "      <td>2015-09-17</td>\n",
       "      <td>1.0</td>\n",
       "      <td>1</td>\n",
       "      <td>0</td>\n",
       "      <td>0</td>\n",
       "    </tr>\n",
       "    <tr>\n",
       "      <th>4</th>\n",
       "      <td>8</td>\n",
       "      <td>4</td>\n",
       "      <td>2015-09-17</td>\n",
       "      <td>1.0</td>\n",
       "      <td>1</td>\n",
       "      <td>0</td>\n",
       "      <td>0</td>\n",
       "    </tr>\n",
       "    <tr>\n",
       "      <th>5</th>\n",
       "      <td>9</td>\n",
       "      <td>4</td>\n",
       "      <td>2015-09-17</td>\n",
       "      <td>1.0</td>\n",
       "      <td>1</td>\n",
       "      <td>0</td>\n",
       "      <td>0</td>\n",
       "    </tr>\n",
       "  </tbody>\n",
       "</table>\n",
       "</div>"
      ],
      "text/plain": [
       "    Store  DayOfWeek        Date  Open  Promo StateHoliday  SchoolHoliday\n",
       "Id                                                                       \n",
       "1       1          4  2015-09-17   1.0      1            0              0\n",
       "2       3          4  2015-09-17   1.0      1            0              0\n",
       "3       7          4  2015-09-17   1.0      1            0              0\n",
       "4       8          4  2015-09-17   1.0      1            0              0\n",
       "5       9          4  2015-09-17   1.0      1            0              0"
      ]
     },
     "execution_count": 3,
     "metadata": {},
     "output_type": "execute_result"
    }
   ],
   "source": [
    "# Explore the testing data\n",
    "test_data.head()"
   ]
  },
  {
   "cell_type": "code",
   "execution_count": 4,
   "metadata": {},
   "outputs": [
    {
     "data": {
      "text/html": [
       "<div>\n",
       "<style scoped>\n",
       "    .dataframe tbody tr th:only-of-type {\n",
       "        vertical-align: middle;\n",
       "    }\n",
       "\n",
       "    .dataframe tbody tr th {\n",
       "        vertical-align: top;\n",
       "    }\n",
       "\n",
       "    .dataframe thead th {\n",
       "        text-align: right;\n",
       "    }\n",
       "</style>\n",
       "<table border=\"1\" class=\"dataframe\">\n",
       "  <thead>\n",
       "    <tr style=\"text-align: right;\">\n",
       "      <th></th>\n",
       "      <th>StoreType</th>\n",
       "      <th>Assortment</th>\n",
       "      <th>CompetitionDistance</th>\n",
       "      <th>CompetitionOpenSinceMonth</th>\n",
       "      <th>CompetitionOpenSinceYear</th>\n",
       "      <th>Promo2</th>\n",
       "      <th>Promo2SinceWeek</th>\n",
       "      <th>Promo2SinceYear</th>\n",
       "      <th>PromoInterval</th>\n",
       "    </tr>\n",
       "    <tr>\n",
       "      <th>Store</th>\n",
       "      <th></th>\n",
       "      <th></th>\n",
       "      <th></th>\n",
       "      <th></th>\n",
       "      <th></th>\n",
       "      <th></th>\n",
       "      <th></th>\n",
       "      <th></th>\n",
       "      <th></th>\n",
       "    </tr>\n",
       "  </thead>\n",
       "  <tbody>\n",
       "    <tr>\n",
       "      <th>1</th>\n",
       "      <td>c</td>\n",
       "      <td>a</td>\n",
       "      <td>1270.0</td>\n",
       "      <td>9.0</td>\n",
       "      <td>2008.0</td>\n",
       "      <td>0</td>\n",
       "      <td>NaN</td>\n",
       "      <td>NaN</td>\n",
       "      <td>NaN</td>\n",
       "    </tr>\n",
       "    <tr>\n",
       "      <th>2</th>\n",
       "      <td>a</td>\n",
       "      <td>a</td>\n",
       "      <td>570.0</td>\n",
       "      <td>11.0</td>\n",
       "      <td>2007.0</td>\n",
       "      <td>1</td>\n",
       "      <td>13.0</td>\n",
       "      <td>2010.0</td>\n",
       "      <td>Jan,Apr,Jul,Oct</td>\n",
       "    </tr>\n",
       "    <tr>\n",
       "      <th>3</th>\n",
       "      <td>a</td>\n",
       "      <td>a</td>\n",
       "      <td>14130.0</td>\n",
       "      <td>12.0</td>\n",
       "      <td>2006.0</td>\n",
       "      <td>1</td>\n",
       "      <td>14.0</td>\n",
       "      <td>2011.0</td>\n",
       "      <td>Jan,Apr,Jul,Oct</td>\n",
       "    </tr>\n",
       "    <tr>\n",
       "      <th>4</th>\n",
       "      <td>c</td>\n",
       "      <td>c</td>\n",
       "      <td>620.0</td>\n",
       "      <td>9.0</td>\n",
       "      <td>2009.0</td>\n",
       "      <td>0</td>\n",
       "      <td>NaN</td>\n",
       "      <td>NaN</td>\n",
       "      <td>NaN</td>\n",
       "    </tr>\n",
       "    <tr>\n",
       "      <th>5</th>\n",
       "      <td>a</td>\n",
       "      <td>a</td>\n",
       "      <td>29910.0</td>\n",
       "      <td>4.0</td>\n",
       "      <td>2015.0</td>\n",
       "      <td>0</td>\n",
       "      <td>NaN</td>\n",
       "      <td>NaN</td>\n",
       "      <td>NaN</td>\n",
       "    </tr>\n",
       "  </tbody>\n",
       "</table>\n",
       "</div>"
      ],
      "text/plain": [
       "      StoreType Assortment  CompetitionDistance  CompetitionOpenSinceMonth  \\\n",
       "Store                                                                        \n",
       "1             c          a               1270.0                        9.0   \n",
       "2             a          a                570.0                       11.0   \n",
       "3             a          a              14130.0                       12.0   \n",
       "4             c          c                620.0                        9.0   \n",
       "5             a          a              29910.0                        4.0   \n",
       "\n",
       "       CompetitionOpenSinceYear  Promo2  Promo2SinceWeek  Promo2SinceYear  \\\n",
       "Store                                                                       \n",
       "1                        2008.0       0              NaN              NaN   \n",
       "2                        2007.0       1             13.0           2010.0   \n",
       "3                        2006.0       1             14.0           2011.0   \n",
       "4                        2009.0       0              NaN              NaN   \n",
       "5                        2015.0       0              NaN              NaN   \n",
       "\n",
       "         PromoInterval  \n",
       "Store                   \n",
       "1                  NaN  \n",
       "2      Jan,Apr,Jul,Oct  \n",
       "3      Jan,Apr,Jul,Oct  \n",
       "4                  NaN  \n",
       "5                  NaN  "
      ]
     },
     "execution_count": 4,
     "metadata": {},
     "output_type": "execute_result"
    }
   ],
   "source": [
    "# Explore the store dataset\n",
    "store_data.head()"
   ]
  },
  {
   "cell_type": "markdown",
   "metadata": {},
   "source": [
    "Now, merge the store dataset with the  train and test dataset on the same store to have rich set of data for analysis\n"
   ]
  },
  {
   "cell_type": "code",
   "execution_count": 5,
   "metadata": {},
   "outputs": [
    {
     "name": "stderr",
     "output_type": "stream",
     "text": [
      "2025-01-03 18:45:06,291 - INFO - Merge the store data with train and test dataset\n"
     ]
    }
   ],
   "source": [
    "logger.info(\"Merge the store data with train and test dataset\")\n",
    "# Merge store and train data\n",
    "_train_data = train_data.merge(store_data, on='Store', how='left')\n",
    "# Merege store and test data\n",
    "_test_data = test_data.merge(store_data, on='Store', how='left')\n"
   ]
  },
  {
   "cell_type": "code",
   "execution_count": 6,
   "metadata": {},
   "outputs": [
    {
     "data": {
      "text/html": [
       "<div>\n",
       "<style scoped>\n",
       "    .dataframe tbody tr th:only-of-type {\n",
       "        vertical-align: middle;\n",
       "    }\n",
       "\n",
       "    .dataframe tbody tr th {\n",
       "        vertical-align: top;\n",
       "    }\n",
       "\n",
       "    .dataframe thead th {\n",
       "        text-align: right;\n",
       "    }\n",
       "</style>\n",
       "<table border=\"1\" class=\"dataframe\">\n",
       "  <thead>\n",
       "    <tr style=\"text-align: right;\">\n",
       "      <th></th>\n",
       "      <th>DayOfWeek</th>\n",
       "      <th>Date</th>\n",
       "      <th>Sales</th>\n",
       "      <th>Customers</th>\n",
       "      <th>Open</th>\n",
       "      <th>Promo</th>\n",
       "      <th>StateHoliday</th>\n",
       "      <th>SchoolHoliday</th>\n",
       "      <th>StoreType</th>\n",
       "      <th>Assortment</th>\n",
       "      <th>CompetitionDistance</th>\n",
       "      <th>CompetitionOpenSinceMonth</th>\n",
       "      <th>CompetitionOpenSinceYear</th>\n",
       "      <th>Promo2</th>\n",
       "      <th>Promo2SinceWeek</th>\n",
       "      <th>Promo2SinceYear</th>\n",
       "      <th>PromoInterval</th>\n",
       "    </tr>\n",
       "    <tr>\n",
       "      <th>Store</th>\n",
       "      <th></th>\n",
       "      <th></th>\n",
       "      <th></th>\n",
       "      <th></th>\n",
       "      <th></th>\n",
       "      <th></th>\n",
       "      <th></th>\n",
       "      <th></th>\n",
       "      <th></th>\n",
       "      <th></th>\n",
       "      <th></th>\n",
       "      <th></th>\n",
       "      <th></th>\n",
       "      <th></th>\n",
       "      <th></th>\n",
       "      <th></th>\n",
       "      <th></th>\n",
       "    </tr>\n",
       "  </thead>\n",
       "  <tbody>\n",
       "    <tr>\n",
       "      <th>1</th>\n",
       "      <td>5</td>\n",
       "      <td>2015-07-31</td>\n",
       "      <td>5263</td>\n",
       "      <td>555</td>\n",
       "      <td>1</td>\n",
       "      <td>1</td>\n",
       "      <td>0</td>\n",
       "      <td>1</td>\n",
       "      <td>c</td>\n",
       "      <td>a</td>\n",
       "      <td>1270.0</td>\n",
       "      <td>9.0</td>\n",
       "      <td>2008.0</td>\n",
       "      <td>0</td>\n",
       "      <td>NaN</td>\n",
       "      <td>NaN</td>\n",
       "      <td>NaN</td>\n",
       "    </tr>\n",
       "    <tr>\n",
       "      <th>2</th>\n",
       "      <td>5</td>\n",
       "      <td>2015-07-31</td>\n",
       "      <td>6064</td>\n",
       "      <td>625</td>\n",
       "      <td>1</td>\n",
       "      <td>1</td>\n",
       "      <td>0</td>\n",
       "      <td>1</td>\n",
       "      <td>a</td>\n",
       "      <td>a</td>\n",
       "      <td>570.0</td>\n",
       "      <td>11.0</td>\n",
       "      <td>2007.0</td>\n",
       "      <td>1</td>\n",
       "      <td>13.0</td>\n",
       "      <td>2010.0</td>\n",
       "      <td>Jan,Apr,Jul,Oct</td>\n",
       "    </tr>\n",
       "    <tr>\n",
       "      <th>3</th>\n",
       "      <td>5</td>\n",
       "      <td>2015-07-31</td>\n",
       "      <td>8314</td>\n",
       "      <td>821</td>\n",
       "      <td>1</td>\n",
       "      <td>1</td>\n",
       "      <td>0</td>\n",
       "      <td>1</td>\n",
       "      <td>a</td>\n",
       "      <td>a</td>\n",
       "      <td>14130.0</td>\n",
       "      <td>12.0</td>\n",
       "      <td>2006.0</td>\n",
       "      <td>1</td>\n",
       "      <td>14.0</td>\n",
       "      <td>2011.0</td>\n",
       "      <td>Jan,Apr,Jul,Oct</td>\n",
       "    </tr>\n",
       "    <tr>\n",
       "      <th>4</th>\n",
       "      <td>5</td>\n",
       "      <td>2015-07-31</td>\n",
       "      <td>13995</td>\n",
       "      <td>1498</td>\n",
       "      <td>1</td>\n",
       "      <td>1</td>\n",
       "      <td>0</td>\n",
       "      <td>1</td>\n",
       "      <td>c</td>\n",
       "      <td>c</td>\n",
       "      <td>620.0</td>\n",
       "      <td>9.0</td>\n",
       "      <td>2009.0</td>\n",
       "      <td>0</td>\n",
       "      <td>NaN</td>\n",
       "      <td>NaN</td>\n",
       "      <td>NaN</td>\n",
       "    </tr>\n",
       "    <tr>\n",
       "      <th>5</th>\n",
       "      <td>5</td>\n",
       "      <td>2015-07-31</td>\n",
       "      <td>4822</td>\n",
       "      <td>559</td>\n",
       "      <td>1</td>\n",
       "      <td>1</td>\n",
       "      <td>0</td>\n",
       "      <td>1</td>\n",
       "      <td>a</td>\n",
       "      <td>a</td>\n",
       "      <td>29910.0</td>\n",
       "      <td>4.0</td>\n",
       "      <td>2015.0</td>\n",
       "      <td>0</td>\n",
       "      <td>NaN</td>\n",
       "      <td>NaN</td>\n",
       "      <td>NaN</td>\n",
       "    </tr>\n",
       "  </tbody>\n",
       "</table>\n",
       "</div>"
      ],
      "text/plain": [
       "       DayOfWeek        Date  Sales  Customers  Open  Promo StateHoliday  \\\n",
       "Store                                                                      \n",
       "1              5  2015-07-31   5263        555     1      1            0   \n",
       "2              5  2015-07-31   6064        625     1      1            0   \n",
       "3              5  2015-07-31   8314        821     1      1            0   \n",
       "4              5  2015-07-31  13995       1498     1      1            0   \n",
       "5              5  2015-07-31   4822        559     1      1            0   \n",
       "\n",
       "       SchoolHoliday StoreType Assortment  CompetitionDistance  \\\n",
       "Store                                                            \n",
       "1                  1         c          a               1270.0   \n",
       "2                  1         a          a                570.0   \n",
       "3                  1         a          a              14130.0   \n",
       "4                  1         c          c                620.0   \n",
       "5                  1         a          a              29910.0   \n",
       "\n",
       "       CompetitionOpenSinceMonth  CompetitionOpenSinceYear  Promo2  \\\n",
       "Store                                                                \n",
       "1                            9.0                    2008.0       0   \n",
       "2                           11.0                    2007.0       1   \n",
       "3                           12.0                    2006.0       1   \n",
       "4                            9.0                    2009.0       0   \n",
       "5                            4.0                    2015.0       0   \n",
       "\n",
       "       Promo2SinceWeek  Promo2SinceYear    PromoInterval  \n",
       "Store                                                     \n",
       "1                  NaN              NaN              NaN  \n",
       "2                 13.0           2010.0  Jan,Apr,Jul,Oct  \n",
       "3                 14.0           2011.0  Jan,Apr,Jul,Oct  \n",
       "4                  NaN              NaN              NaN  \n",
       "5                  NaN              NaN              NaN  "
      ]
     },
     "execution_count": 6,
     "metadata": {},
     "output_type": "execute_result"
    }
   ],
   "source": [
    "# Now let's explore to understand the nature of the merged data\n",
    "_train_data.head()"
   ]
  },
  {
   "cell_type": "code",
   "execution_count": 7,
   "metadata": {},
   "outputs": [
    {
     "name": "stdout",
     "output_type": "stream",
     "text": [
      "<class 'pandas.core.frame.DataFrame'>\n",
      "Index: 1017209 entries, 1 to 1115\n",
      "Data columns (total 17 columns):\n",
      " #   Column                     Non-Null Count    Dtype  \n",
      "---  ------                     --------------    -----  \n",
      " 0   DayOfWeek                  1017209 non-null  int64  \n",
      " 1   Date                       1017209 non-null  object \n",
      " 2   Sales                      1017209 non-null  int64  \n",
      " 3   Customers                  1017209 non-null  int64  \n",
      " 4   Open                       1017209 non-null  int64  \n",
      " 5   Promo                      1017209 non-null  int64  \n",
      " 6   StateHoliday               1017209 non-null  object \n",
      " 7   SchoolHoliday              1017209 non-null  int64  \n",
      " 8   StoreType                  1017209 non-null  object \n",
      " 9   Assortment                 1017209 non-null  object \n",
      " 10  CompetitionDistance        1014567 non-null  float64\n",
      " 11  CompetitionOpenSinceMonth  693861 non-null   float64\n",
      " 12  CompetitionOpenSinceYear   693861 non-null   float64\n",
      " 13  Promo2                     1017209 non-null  int64  \n",
      " 14  Promo2SinceWeek            509178 non-null   float64\n",
      " 15  Promo2SinceYear            509178 non-null   float64\n",
      " 16  PromoInterval              509178 non-null   object \n",
      "dtypes: float64(5), int64(7), object(5)\n",
      "memory usage: 139.7+ MB\n"
     ]
    }
   ],
   "source": [
    "# Info the train data\n",
    "_train_data.info()"
   ]
  },
  {
   "cell_type": "code",
   "execution_count": 8,
   "metadata": {},
   "outputs": [
    {
     "name": "stderr",
     "output_type": "stream",
     "text": [
      "2025-01-03 18:45:26,176 - INFO - Checking statistical summary of numerical data.\n"
     ]
    },
    {
     "data": {
      "text/html": [
       "<div>\n",
       "<style scoped>\n",
       "    .dataframe tbody tr th:only-of-type {\n",
       "        vertical-align: middle;\n",
       "    }\n",
       "\n",
       "    .dataframe tbody tr th {\n",
       "        vertical-align: top;\n",
       "    }\n",
       "\n",
       "    .dataframe thead th {\n",
       "        text-align: right;\n",
       "    }\n",
       "</style>\n",
       "<table border=\"1\" class=\"dataframe\">\n",
       "  <thead>\n",
       "    <tr style=\"text-align: right;\">\n",
       "      <th></th>\n",
       "      <th>DayOfWeek</th>\n",
       "      <th>Sales</th>\n",
       "      <th>Customers</th>\n",
       "      <th>Open</th>\n",
       "      <th>Promo</th>\n",
       "      <th>SchoolHoliday</th>\n",
       "    </tr>\n",
       "  </thead>\n",
       "  <tbody>\n",
       "    <tr>\n",
       "      <th>count</th>\n",
       "      <td>1.017209e+06</td>\n",
       "      <td>1.017209e+06</td>\n",
       "      <td>1.017209e+06</td>\n",
       "      <td>1.017209e+06</td>\n",
       "      <td>1.017209e+06</td>\n",
       "      <td>1.017209e+06</td>\n",
       "    </tr>\n",
       "    <tr>\n",
       "      <th>mean</th>\n",
       "      <td>3.998341e+00</td>\n",
       "      <td>5.773819e+03</td>\n",
       "      <td>6.331459e+02</td>\n",
       "      <td>8.301067e-01</td>\n",
       "      <td>3.815145e-01</td>\n",
       "      <td>1.786467e-01</td>\n",
       "    </tr>\n",
       "    <tr>\n",
       "      <th>std</th>\n",
       "      <td>1.997391e+00</td>\n",
       "      <td>3.849926e+03</td>\n",
       "      <td>4.644117e+02</td>\n",
       "      <td>3.755392e-01</td>\n",
       "      <td>4.857586e-01</td>\n",
       "      <td>3.830564e-01</td>\n",
       "    </tr>\n",
       "    <tr>\n",
       "      <th>min</th>\n",
       "      <td>1.000000e+00</td>\n",
       "      <td>0.000000e+00</td>\n",
       "      <td>0.000000e+00</td>\n",
       "      <td>0.000000e+00</td>\n",
       "      <td>0.000000e+00</td>\n",
       "      <td>0.000000e+00</td>\n",
       "    </tr>\n",
       "    <tr>\n",
       "      <th>25%</th>\n",
       "      <td>2.000000e+00</td>\n",
       "      <td>3.727000e+03</td>\n",
       "      <td>4.050000e+02</td>\n",
       "      <td>1.000000e+00</td>\n",
       "      <td>0.000000e+00</td>\n",
       "      <td>0.000000e+00</td>\n",
       "    </tr>\n",
       "    <tr>\n",
       "      <th>50%</th>\n",
       "      <td>4.000000e+00</td>\n",
       "      <td>5.744000e+03</td>\n",
       "      <td>6.090000e+02</td>\n",
       "      <td>1.000000e+00</td>\n",
       "      <td>0.000000e+00</td>\n",
       "      <td>0.000000e+00</td>\n",
       "    </tr>\n",
       "    <tr>\n",
       "      <th>75%</th>\n",
       "      <td>6.000000e+00</td>\n",
       "      <td>7.856000e+03</td>\n",
       "      <td>8.370000e+02</td>\n",
       "      <td>1.000000e+00</td>\n",
       "      <td>1.000000e+00</td>\n",
       "      <td>0.000000e+00</td>\n",
       "    </tr>\n",
       "    <tr>\n",
       "      <th>max</th>\n",
       "      <td>7.000000e+00</td>\n",
       "      <td>4.155100e+04</td>\n",
       "      <td>7.388000e+03</td>\n",
       "      <td>1.000000e+00</td>\n",
       "      <td>1.000000e+00</td>\n",
       "      <td>1.000000e+00</td>\n",
       "    </tr>\n",
       "  </tbody>\n",
       "</table>\n",
       "</div>"
      ],
      "text/plain": [
       "          DayOfWeek         Sales     Customers          Open         Promo  \\\n",
       "count  1.017209e+06  1.017209e+06  1.017209e+06  1.017209e+06  1.017209e+06   \n",
       "mean   3.998341e+00  5.773819e+03  6.331459e+02  8.301067e-01  3.815145e-01   \n",
       "std    1.997391e+00  3.849926e+03  4.644117e+02  3.755392e-01  4.857586e-01   \n",
       "min    1.000000e+00  0.000000e+00  0.000000e+00  0.000000e+00  0.000000e+00   \n",
       "25%    2.000000e+00  3.727000e+03  4.050000e+02  1.000000e+00  0.000000e+00   \n",
       "50%    4.000000e+00  5.744000e+03  6.090000e+02  1.000000e+00  0.000000e+00   \n",
       "75%    6.000000e+00  7.856000e+03  8.370000e+02  1.000000e+00  1.000000e+00   \n",
       "max    7.000000e+00  4.155100e+04  7.388000e+03  1.000000e+00  1.000000e+00   \n",
       "\n",
       "       SchoolHoliday  \n",
       "count   1.017209e+06  \n",
       "mean    1.786467e-01  \n",
       "std     3.830564e-01  \n",
       "min     0.000000e+00  \n",
       "25%     0.000000e+00  \n",
       "50%     0.000000e+00  \n",
       "75%     0.000000e+00  \n",
       "max     1.000000e+00  "
      ]
     },
     "metadata": {},
     "output_type": "display_data"
    },
    {
     "data": {
      "text/html": [
       "<div>\n",
       "<style scoped>\n",
       "    .dataframe tbody tr th:only-of-type {\n",
       "        vertical-align: middle;\n",
       "    }\n",
       "\n",
       "    .dataframe tbody tr th {\n",
       "        vertical-align: top;\n",
       "    }\n",
       "\n",
       "    .dataframe thead th {\n",
       "        text-align: right;\n",
       "    }\n",
       "</style>\n",
       "<table border=\"1\" class=\"dataframe\">\n",
       "  <thead>\n",
       "    <tr style=\"text-align: right;\">\n",
       "      <th></th>\n",
       "      <th>Store</th>\n",
       "      <th>DayOfWeek</th>\n",
       "      <th>Open</th>\n",
       "      <th>Promo</th>\n",
       "      <th>SchoolHoliday</th>\n",
       "    </tr>\n",
       "  </thead>\n",
       "  <tbody>\n",
       "    <tr>\n",
       "      <th>count</th>\n",
       "      <td>41088.000000</td>\n",
       "      <td>41088.000000</td>\n",
       "      <td>41077.000000</td>\n",
       "      <td>41088.000000</td>\n",
       "      <td>41088.000000</td>\n",
       "    </tr>\n",
       "    <tr>\n",
       "      <th>mean</th>\n",
       "      <td>555.899533</td>\n",
       "      <td>3.979167</td>\n",
       "      <td>0.854322</td>\n",
       "      <td>0.395833</td>\n",
       "      <td>0.443487</td>\n",
       "    </tr>\n",
       "    <tr>\n",
       "      <th>std</th>\n",
       "      <td>320.274496</td>\n",
       "      <td>2.015481</td>\n",
       "      <td>0.352787</td>\n",
       "      <td>0.489035</td>\n",
       "      <td>0.496802</td>\n",
       "    </tr>\n",
       "    <tr>\n",
       "      <th>min</th>\n",
       "      <td>1.000000</td>\n",
       "      <td>1.000000</td>\n",
       "      <td>0.000000</td>\n",
       "      <td>0.000000</td>\n",
       "      <td>0.000000</td>\n",
       "    </tr>\n",
       "    <tr>\n",
       "      <th>25%</th>\n",
       "      <td>279.750000</td>\n",
       "      <td>2.000000</td>\n",
       "      <td>1.000000</td>\n",
       "      <td>0.000000</td>\n",
       "      <td>0.000000</td>\n",
       "    </tr>\n",
       "    <tr>\n",
       "      <th>50%</th>\n",
       "      <td>553.500000</td>\n",
       "      <td>4.000000</td>\n",
       "      <td>1.000000</td>\n",
       "      <td>0.000000</td>\n",
       "      <td>0.000000</td>\n",
       "    </tr>\n",
       "    <tr>\n",
       "      <th>75%</th>\n",
       "      <td>832.250000</td>\n",
       "      <td>6.000000</td>\n",
       "      <td>1.000000</td>\n",
       "      <td>1.000000</td>\n",
       "      <td>1.000000</td>\n",
       "    </tr>\n",
       "    <tr>\n",
       "      <th>max</th>\n",
       "      <td>1115.000000</td>\n",
       "      <td>7.000000</td>\n",
       "      <td>1.000000</td>\n",
       "      <td>1.000000</td>\n",
       "      <td>1.000000</td>\n",
       "    </tr>\n",
       "  </tbody>\n",
       "</table>\n",
       "</div>"
      ],
      "text/plain": [
       "              Store     DayOfWeek          Open         Promo  SchoolHoliday\n",
       "count  41088.000000  41088.000000  41077.000000  41088.000000   41088.000000\n",
       "mean     555.899533      3.979167      0.854322      0.395833       0.443487\n",
       "std      320.274496      2.015481      0.352787      0.489035       0.496802\n",
       "min        1.000000      1.000000      0.000000      0.000000       0.000000\n",
       "25%      279.750000      2.000000      1.000000      0.000000       0.000000\n",
       "50%      553.500000      4.000000      1.000000      0.000000       0.000000\n",
       "75%      832.250000      6.000000      1.000000      1.000000       1.000000\n",
       "max     1115.000000      7.000000      1.000000      1.000000       1.000000"
      ]
     },
     "metadata": {},
     "output_type": "display_data"
    }
   ],
   "source": [
    "logger.info(\"Checking statistical summary of numerical data.\")\n",
    "# Statistical summary of numerical data\n",
    "display(train_data.describe())\n",
    "display(test_data.describe())"
   ]
  },
  {
   "cell_type": "code",
   "execution_count": 9,
   "metadata": {},
   "outputs": [
    {
     "name": "stdout",
     "output_type": "stream",
     "text": [
      "Shape of training dataset:(1017209, 17)\n",
      "Shape of testing dataset:(41088, 16) \n"
     ]
    }
   ],
   "source": [
    "# Check the shape of the dataset\n",
    "print(f'Shape of training dataset:{_train_data.shape}')\n",
    "print(f'Shape of testing dataset:{_test_data.shape} ')"
   ]
  },
  {
   "cell_type": "code",
   "execution_count": 10,
   "metadata": {},
   "outputs": [
    {
     "name": "stderr",
     "output_type": "stream",
     "text": [
      "2025-01-03 18:45:39,086 - INFO - Checking the types of both test and train data\n"
     ]
    },
    {
     "name": "stdout",
     "output_type": "stream",
     "text": [
      "Training Dataset Data Types:\n",
      "\n",
      "DayOfWeek                      int64\n",
      "Date                          object\n",
      "Sales                          int64\n",
      "Customers                      int64\n",
      "Open                           int64\n",
      "Promo                          int64\n",
      "StateHoliday                  object\n",
      "SchoolHoliday                  int64\n",
      "StoreType                     object\n",
      "Assortment                    object\n",
      "CompetitionDistance          float64\n",
      "CompetitionOpenSinceMonth    float64\n",
      "CompetitionOpenSinceYear     float64\n",
      "Promo2                         int64\n",
      "Promo2SinceWeek              float64\n",
      "Promo2SinceYear              float64\n",
      "PromoInterval                 object\n",
      "dtype: object\n",
      "\n",
      "==================================================\n",
      "\n",
      "Test Dataset Data Types:\n",
      "\n",
      "Store                          int64\n",
      "DayOfWeek                      int64\n",
      "Date                          object\n",
      "Open                         float64\n",
      "Promo                          int64\n",
      "StateHoliday                  object\n",
      "SchoolHoliday                  int64\n",
      "StoreType                     object\n",
      "Assortment                    object\n",
      "CompetitionDistance          float64\n",
      "CompetitionOpenSinceMonth    float64\n",
      "CompetitionOpenSinceYear     float64\n",
      "Promo2                         int64\n",
      "Promo2SinceWeek              float64\n",
      "Promo2SinceYear              float64\n",
      "PromoInterval                 object\n",
      "dtype: object\n",
      "\n",
      "==================================================\n",
      "\n",
      "Differences in column names and data types between training and test datasets:\n",
      "\n",
      "Column 'Sales' is present in training data but missing in test data.\n",
      "Column 'Customers' is present in training data but missing in test data.\n",
      "Data type mismatch for column 'Open':\n",
      "Train: int64, Test: float64\n",
      "--------------------------------------------------\n",
      "Column 'Store' is present in test data but missing in training data.\n"
     ]
    }
   ],
   "source": [
    "logger.info(\"Checking the types of both test and train data\")\n",
    "from data_processing import DataProcessing\n",
    "\n",
    "# Create instance of the class\n",
    "train_data = _train_data.copy()\n",
    "test_data = _test_data.copy()\n",
    "process = DataProcessing(test_data, train_data)\n",
    "# Check the types of both test and train data\n",
    "process.check_data_types()\n"
   ]
  },
  {
   "cell_type": "code",
   "execution_count": 11,
   "metadata": {},
   "outputs": [],
   "source": [
    "# Convert the Date column to datetime64 in both training and testing dataset\n",
    "train_data['Date'] = pd.to_datetime(train_data['Date'])\n",
    "test_data['Date'] = pd.to_datetime(test_data['Date'])\n",
    "\n",
    "# # Map the StateHolday column from object to int64 in both training and testing dataset\n",
    "# '''     'a': 1,  # Public holiday\n",
    "#         'b': 2,  # Easter holiday\n",
    "#         'c': 3,  # Christmas\n",
    "#         '0': 0   # No holiday\n",
    "# '''\n",
    "# train_data = DataProcessing.convert_state_holiday(train_data)\n",
    "# test_data = DataProcessing.convert_state_holiday(test_data)"
   ]
  },
  {
   "cell_type": "markdown",
   "metadata": {},
   "source": [
    "Handle Missing Data\n",
    "\n",
    "- Identify missing values in critical features like `CompetitionDistance`, `Promo2Since`, and `Sales`.\n",
    "- Impute missing values (e.g., forward-filling for time-based variables or using median/mean for continuous features).\n",
    "\n"
   ]
  },
  {
   "cell_type": "code",
   "execution_count": 12,
   "metadata": {},
   "outputs": [
    {
     "name": "stderr",
     "output_type": "stream",
     "text": [
      "2025-01-03 18:46:07,279 - INFO - Checking the missing values\n"
     ]
    },
    {
     "name": "stdout",
     "output_type": "stream",
     "text": [
      "Summary of Missing Values in Train Data.\n"
     ]
    },
    {
     "data": {
      "text/html": [
       "<div>\n",
       "<style scoped>\n",
       "    .dataframe tbody tr th:only-of-type {\n",
       "        vertical-align: middle;\n",
       "    }\n",
       "\n",
       "    .dataframe tbody tr th {\n",
       "        vertical-align: top;\n",
       "    }\n",
       "\n",
       "    .dataframe thead th {\n",
       "        text-align: right;\n",
       "    }\n",
       "</style>\n",
       "<table border=\"1\" class=\"dataframe\">\n",
       "  <thead>\n",
       "    <tr style=\"text-align: right;\">\n",
       "      <th></th>\n",
       "      <th>Missing Count</th>\n",
       "      <th>Percentage (%)</th>\n",
       "    </tr>\n",
       "  </thead>\n",
       "  <tbody>\n",
       "    <tr>\n",
       "      <th>Promo2SinceYear</th>\n",
       "      <td>508031</td>\n",
       "      <td>49.943620</td>\n",
       "    </tr>\n",
       "    <tr>\n",
       "      <th>Promo2SinceWeek</th>\n",
       "      <td>508031</td>\n",
       "      <td>49.943620</td>\n",
       "    </tr>\n",
       "    <tr>\n",
       "      <th>PromoInterval</th>\n",
       "      <td>508031</td>\n",
       "      <td>49.943620</td>\n",
       "    </tr>\n",
       "    <tr>\n",
       "      <th>CompetitionOpenSinceMonth</th>\n",
       "      <td>323348</td>\n",
       "      <td>31.787764</td>\n",
       "    </tr>\n",
       "    <tr>\n",
       "      <th>CompetitionOpenSinceYear</th>\n",
       "      <td>323348</td>\n",
       "      <td>31.787764</td>\n",
       "    </tr>\n",
       "    <tr>\n",
       "      <th>CompetitionDistance</th>\n",
       "      <td>2642</td>\n",
       "      <td>0.259730</td>\n",
       "    </tr>\n",
       "  </tbody>\n",
       "</table>\n",
       "</div>"
      ],
      "text/plain": [
       "                           Missing Count  Percentage (%)\n",
       "Promo2SinceYear                   508031       49.943620\n",
       "Promo2SinceWeek                   508031       49.943620\n",
       "PromoInterval                     508031       49.943620\n",
       "CompetitionOpenSinceMonth         323348       31.787764\n",
       "CompetitionOpenSinceYear          323348       31.787764\n",
       "CompetitionDistance                 2642        0.259730"
      ]
     },
     "metadata": {},
     "output_type": "display_data"
    },
    {
     "name": "stdout",
     "output_type": "stream",
     "text": [
      "Summary of Missing Values in Test Data.\n"
     ]
    },
    {
     "data": {
      "text/html": [
       "<div>\n",
       "<style scoped>\n",
       "    .dataframe tbody tr th:only-of-type {\n",
       "        vertical-align: middle;\n",
       "    }\n",
       "\n",
       "    .dataframe tbody tr th {\n",
       "        vertical-align: top;\n",
       "    }\n",
       "\n",
       "    .dataframe thead th {\n",
       "        text-align: right;\n",
       "    }\n",
       "</style>\n",
       "<table border=\"1\" class=\"dataframe\">\n",
       "  <thead>\n",
       "    <tr style=\"text-align: right;\">\n",
       "      <th></th>\n",
       "      <th>Missing Count</th>\n",
       "      <th>Percentage (%)</th>\n",
       "    </tr>\n",
       "  </thead>\n",
       "  <tbody>\n",
       "    <tr>\n",
       "      <th>PromoInterval</th>\n",
       "      <td>17232</td>\n",
       "      <td>41.939252</td>\n",
       "    </tr>\n",
       "    <tr>\n",
       "      <th>Promo2SinceYear</th>\n",
       "      <td>17232</td>\n",
       "      <td>41.939252</td>\n",
       "    </tr>\n",
       "    <tr>\n",
       "      <th>Promo2SinceWeek</th>\n",
       "      <td>17232</td>\n",
       "      <td>41.939252</td>\n",
       "    </tr>\n",
       "    <tr>\n",
       "      <th>CompetitionOpenSinceMonth</th>\n",
       "      <td>15216</td>\n",
       "      <td>37.032710</td>\n",
       "    </tr>\n",
       "    <tr>\n",
       "      <th>CompetitionOpenSinceYear</th>\n",
       "      <td>15216</td>\n",
       "      <td>37.032710</td>\n",
       "    </tr>\n",
       "    <tr>\n",
       "      <th>CompetitionDistance</th>\n",
       "      <td>96</td>\n",
       "      <td>0.233645</td>\n",
       "    </tr>\n",
       "    <tr>\n",
       "      <th>Open</th>\n",
       "      <td>11</td>\n",
       "      <td>0.026772</td>\n",
       "    </tr>\n",
       "  </tbody>\n",
       "</table>\n",
       "</div>"
      ],
      "text/plain": [
       "                           Missing Count  Percentage (%)\n",
       "PromoInterval                      17232       41.939252\n",
       "Promo2SinceYear                    17232       41.939252\n",
       "Promo2SinceWeek                    17232       41.939252\n",
       "CompetitionOpenSinceMonth          15216       37.032710\n",
       "CompetitionOpenSinceYear           15216       37.032710\n",
       "CompetitionDistance                   96        0.233645\n",
       "Open                                  11        0.026772"
      ]
     },
     "metadata": {},
     "output_type": "display_data"
    }
   ],
   "source": [
    "logger.info(\"Checking the missing values\")\n",
    "# Check missing values\n",
    "print('Summary of Missing Values in Train Data.')\n",
    "display(process.missing_data_summary(train_data))\n",
    "print('Summary of Missing Values in Test Data.')\n",
    "display(process.missing_data_summary(test_data))\n"
   ]
  },
  {
   "cell_type": "markdown",
   "metadata": {},
   "source": [
    "Drop columns such as `Promo2SinceWeek`, `Promo2SinceYear` since high percentage of the data values are missing."
   ]
  },
  {
   "cell_type": "code",
   "execution_count": 13,
   "metadata": {},
   "outputs": [
    {
     "name": "stderr",
     "output_type": "stream",
     "text": [
      "2025-01-03 18:46:16,695 - INFO - Drop columns having high missing percentage\n"
     ]
    },
    {
     "ename": "KeyError",
     "evalue": "\"['Promo2SinceWeek', 'Promo2SinceYear', 'PromoInterval'] not found in axis\"",
     "output_type": "error",
     "traceback": [
      "\u001b[1;31m---------------------------------------------------------------------------\u001b[0m",
      "\u001b[1;31mKeyError\u001b[0m                                  Traceback (most recent call last)",
      "Cell \u001b[1;32mIn[13], line 6\u001b[0m\n\u001b[0;32m      3\u001b[0m cols_to_drop \u001b[38;5;241m=\u001b[39m [\u001b[38;5;124m'\u001b[39m\u001b[38;5;124mPromo2SinceWeek\u001b[39m\u001b[38;5;124m'\u001b[39m, \u001b[38;5;124m'\u001b[39m\u001b[38;5;124mPromo2SinceYear\u001b[39m\u001b[38;5;124m'\u001b[39m,\u001b[38;5;124m'\u001b[39m\u001b[38;5;124mPromoInterval\u001b[39m\u001b[38;5;124m'\u001b[39m]\n\u001b[0;32m      5\u001b[0m \u001b[38;5;66;03m# Drop specified columns from both datasets\u001b[39;00m\n\u001b[1;32m----> 6\u001b[0m \u001b[43mprocess\u001b[49m\u001b[38;5;241;43m.\u001b[39;49m\u001b[43mmissing_data_summary\u001b[49m\u001b[43m(\u001b[49m\u001b[43mtest_data\u001b[49m\u001b[43m)\u001b[49m\u001b[38;5;241;43m.\u001b[39;49m\u001b[43mdrop\u001b[49m\u001b[43m(\u001b[49m\u001b[43mcolumns\u001b[49m\u001b[38;5;241;43m=\u001b[39;49m\u001b[43mcols_to_drop\u001b[49m\u001b[43m,\u001b[49m\u001b[43m \u001b[49m\u001b[43maxis\u001b[49m\u001b[38;5;241;43m=\u001b[39;49m\u001b[38;5;241;43m1\u001b[39;49m\u001b[43m,\u001b[49m\u001b[43m \u001b[49m\u001b[43minplace\u001b[49m\u001b[38;5;241;43m=\u001b[39;49m\u001b[38;5;28;43;01mTrue\u001b[39;49;00m\u001b[43m)\u001b[49m\n\u001b[0;32m      7\u001b[0m train_data\u001b[38;5;241m.\u001b[39mdrop(columns\u001b[38;5;241m=\u001b[39mcols_to_drop, axis\u001b[38;5;241m=\u001b[39m\u001b[38;5;241m1\u001b[39m, inplace\u001b[38;5;241m=\u001b[39m\u001b[38;5;28;01mTrue\u001b[39;00m)\n\u001b[0;32m      8\u001b[0m test_data\u001b[38;5;241m.\u001b[39mdrop(columns\u001b[38;5;241m=\u001b[39mcols_to_drop, axis\u001b[38;5;241m=\u001b[39m\u001b[38;5;241m1\u001b[39m, inplace\u001b[38;5;241m=\u001b[39m\u001b[38;5;28;01mTrue\u001b[39;00m)\n",
      "File \u001b[1;32md:\\KMAI3\\Pharmaceuticals\\.venv-w4\\Lib\\site-packages\\pandas\\core\\frame.py:5581\u001b[0m, in \u001b[0;36mDataFrame.drop\u001b[1;34m(self, labels, axis, index, columns, level, inplace, errors)\u001b[0m\n\u001b[0;32m   5433\u001b[0m \u001b[38;5;28;01mdef\u001b[39;00m \u001b[38;5;21mdrop\u001b[39m(\n\u001b[0;32m   5434\u001b[0m     \u001b[38;5;28mself\u001b[39m,\n\u001b[0;32m   5435\u001b[0m     labels: IndexLabel \u001b[38;5;241m|\u001b[39m \u001b[38;5;28;01mNone\u001b[39;00m \u001b[38;5;241m=\u001b[39m \u001b[38;5;28;01mNone\u001b[39;00m,\n\u001b[1;32m   (...)\u001b[0m\n\u001b[0;32m   5442\u001b[0m     errors: IgnoreRaise \u001b[38;5;241m=\u001b[39m \u001b[38;5;124m\"\u001b[39m\u001b[38;5;124mraise\u001b[39m\u001b[38;5;124m\"\u001b[39m,\n\u001b[0;32m   5443\u001b[0m ) \u001b[38;5;241m-\u001b[39m\u001b[38;5;241m>\u001b[39m DataFrame \u001b[38;5;241m|\u001b[39m \u001b[38;5;28;01mNone\u001b[39;00m:\n\u001b[0;32m   5444\u001b[0m \u001b[38;5;250m    \u001b[39m\u001b[38;5;124;03m\"\"\"\u001b[39;00m\n\u001b[0;32m   5445\u001b[0m \u001b[38;5;124;03m    Drop specified labels from rows or columns.\u001b[39;00m\n\u001b[0;32m   5446\u001b[0m \n\u001b[1;32m   (...)\u001b[0m\n\u001b[0;32m   5579\u001b[0m \u001b[38;5;124;03m            weight  1.0     0.8\u001b[39;00m\n\u001b[0;32m   5580\u001b[0m \u001b[38;5;124;03m    \"\"\"\u001b[39;00m\n\u001b[1;32m-> 5581\u001b[0m     \u001b[38;5;28;01mreturn\u001b[39;00m \u001b[38;5;28;43msuper\u001b[39;49m\u001b[43m(\u001b[49m\u001b[43m)\u001b[49m\u001b[38;5;241;43m.\u001b[39;49m\u001b[43mdrop\u001b[49m\u001b[43m(\u001b[49m\n\u001b[0;32m   5582\u001b[0m \u001b[43m        \u001b[49m\u001b[43mlabels\u001b[49m\u001b[38;5;241;43m=\u001b[39;49m\u001b[43mlabels\u001b[49m\u001b[43m,\u001b[49m\n\u001b[0;32m   5583\u001b[0m \u001b[43m        \u001b[49m\u001b[43maxis\u001b[49m\u001b[38;5;241;43m=\u001b[39;49m\u001b[43maxis\u001b[49m\u001b[43m,\u001b[49m\n\u001b[0;32m   5584\u001b[0m \u001b[43m        \u001b[49m\u001b[43mindex\u001b[49m\u001b[38;5;241;43m=\u001b[39;49m\u001b[43mindex\u001b[49m\u001b[43m,\u001b[49m\n\u001b[0;32m   5585\u001b[0m \u001b[43m        \u001b[49m\u001b[43mcolumns\u001b[49m\u001b[38;5;241;43m=\u001b[39;49m\u001b[43mcolumns\u001b[49m\u001b[43m,\u001b[49m\n\u001b[0;32m   5586\u001b[0m \u001b[43m        \u001b[49m\u001b[43mlevel\u001b[49m\u001b[38;5;241;43m=\u001b[39;49m\u001b[43mlevel\u001b[49m\u001b[43m,\u001b[49m\n\u001b[0;32m   5587\u001b[0m \u001b[43m        \u001b[49m\u001b[43minplace\u001b[49m\u001b[38;5;241;43m=\u001b[39;49m\u001b[43minplace\u001b[49m\u001b[43m,\u001b[49m\n\u001b[0;32m   5588\u001b[0m \u001b[43m        \u001b[49m\u001b[43merrors\u001b[49m\u001b[38;5;241;43m=\u001b[39;49m\u001b[43merrors\u001b[49m\u001b[43m,\u001b[49m\n\u001b[0;32m   5589\u001b[0m \u001b[43m    \u001b[49m\u001b[43m)\u001b[49m\n",
      "File \u001b[1;32md:\\KMAI3\\Pharmaceuticals\\.venv-w4\\Lib\\site-packages\\pandas\\core\\generic.py:4788\u001b[0m, in \u001b[0;36mNDFrame.drop\u001b[1;34m(self, labels, axis, index, columns, level, inplace, errors)\u001b[0m\n\u001b[0;32m   4786\u001b[0m \u001b[38;5;28;01mfor\u001b[39;00m axis, labels \u001b[38;5;129;01min\u001b[39;00m axes\u001b[38;5;241m.\u001b[39mitems():\n\u001b[0;32m   4787\u001b[0m     \u001b[38;5;28;01mif\u001b[39;00m labels \u001b[38;5;129;01mis\u001b[39;00m \u001b[38;5;129;01mnot\u001b[39;00m \u001b[38;5;28;01mNone\u001b[39;00m:\n\u001b[1;32m-> 4788\u001b[0m         obj \u001b[38;5;241m=\u001b[39m \u001b[43mobj\u001b[49m\u001b[38;5;241;43m.\u001b[39;49m\u001b[43m_drop_axis\u001b[49m\u001b[43m(\u001b[49m\u001b[43mlabels\u001b[49m\u001b[43m,\u001b[49m\u001b[43m \u001b[49m\u001b[43maxis\u001b[49m\u001b[43m,\u001b[49m\u001b[43m \u001b[49m\u001b[43mlevel\u001b[49m\u001b[38;5;241;43m=\u001b[39;49m\u001b[43mlevel\u001b[49m\u001b[43m,\u001b[49m\u001b[43m \u001b[49m\u001b[43merrors\u001b[49m\u001b[38;5;241;43m=\u001b[39;49m\u001b[43merrors\u001b[49m\u001b[43m)\u001b[49m\n\u001b[0;32m   4790\u001b[0m \u001b[38;5;28;01mif\u001b[39;00m inplace:\n\u001b[0;32m   4791\u001b[0m     \u001b[38;5;28mself\u001b[39m\u001b[38;5;241m.\u001b[39m_update_inplace(obj)\n",
      "File \u001b[1;32md:\\KMAI3\\Pharmaceuticals\\.venv-w4\\Lib\\site-packages\\pandas\\core\\generic.py:4830\u001b[0m, in \u001b[0;36mNDFrame._drop_axis\u001b[1;34m(self, labels, axis, level, errors, only_slice)\u001b[0m\n\u001b[0;32m   4828\u001b[0m         new_axis \u001b[38;5;241m=\u001b[39m axis\u001b[38;5;241m.\u001b[39mdrop(labels, level\u001b[38;5;241m=\u001b[39mlevel, errors\u001b[38;5;241m=\u001b[39merrors)\n\u001b[0;32m   4829\u001b[0m     \u001b[38;5;28;01melse\u001b[39;00m:\n\u001b[1;32m-> 4830\u001b[0m         new_axis \u001b[38;5;241m=\u001b[39m \u001b[43maxis\u001b[49m\u001b[38;5;241;43m.\u001b[39;49m\u001b[43mdrop\u001b[49m\u001b[43m(\u001b[49m\u001b[43mlabels\u001b[49m\u001b[43m,\u001b[49m\u001b[43m \u001b[49m\u001b[43merrors\u001b[49m\u001b[38;5;241;43m=\u001b[39;49m\u001b[43merrors\u001b[49m\u001b[43m)\u001b[49m\n\u001b[0;32m   4831\u001b[0m     indexer \u001b[38;5;241m=\u001b[39m axis\u001b[38;5;241m.\u001b[39mget_indexer(new_axis)\n\u001b[0;32m   4833\u001b[0m \u001b[38;5;66;03m# Case for non-unique axis\u001b[39;00m\n\u001b[0;32m   4834\u001b[0m \u001b[38;5;28;01melse\u001b[39;00m:\n",
      "File \u001b[1;32md:\\KMAI3\\Pharmaceuticals\\.venv-w4\\Lib\\site-packages\\pandas\\core\\indexes\\base.py:7070\u001b[0m, in \u001b[0;36mIndex.drop\u001b[1;34m(self, labels, errors)\u001b[0m\n\u001b[0;32m   7068\u001b[0m \u001b[38;5;28;01mif\u001b[39;00m mask\u001b[38;5;241m.\u001b[39many():\n\u001b[0;32m   7069\u001b[0m     \u001b[38;5;28;01mif\u001b[39;00m errors \u001b[38;5;241m!=\u001b[39m \u001b[38;5;124m\"\u001b[39m\u001b[38;5;124mignore\u001b[39m\u001b[38;5;124m\"\u001b[39m:\n\u001b[1;32m-> 7070\u001b[0m         \u001b[38;5;28;01mraise\u001b[39;00m \u001b[38;5;167;01mKeyError\u001b[39;00m(\u001b[38;5;124mf\u001b[39m\u001b[38;5;124m\"\u001b[39m\u001b[38;5;132;01m{\u001b[39;00mlabels[mask]\u001b[38;5;241m.\u001b[39mtolist()\u001b[38;5;132;01m}\u001b[39;00m\u001b[38;5;124m not found in axis\u001b[39m\u001b[38;5;124m\"\u001b[39m)\n\u001b[0;32m   7071\u001b[0m     indexer \u001b[38;5;241m=\u001b[39m indexer[\u001b[38;5;241m~\u001b[39mmask]\n\u001b[0;32m   7072\u001b[0m \u001b[38;5;28;01mreturn\u001b[39;00m \u001b[38;5;28mself\u001b[39m\u001b[38;5;241m.\u001b[39mdelete(indexer)\n",
      "\u001b[1;31mKeyError\u001b[0m: \"['Promo2SinceWeek', 'Promo2SinceYear', 'PromoInterval'] not found in axis\""
     ]
    }
   ],
   "source": [
    "logger.info(\"Drop columns having high missing percentage\")\n",
    "# List of columns to drop\n",
    "cols_to_drop = ['Promo2SinceWeek', 'Promo2SinceYear','PromoInterval']\n",
    "\n",
    "# Drop specified columns from both datasets\n",
    "process.missing_data_summary(test_data).drop(columns=cols_to_drop, axis=1, inplace=True)\n",
    "train_data.drop(columns=cols_to_drop, axis=1, inplace=True)\n",
    "test_data.drop(columns=cols_to_drop, axis=1, inplace=True)"
   ]
  },
  {
   "cell_type": "markdown",
   "metadata": {},
   "source": [
    "`CompetitionOpenSinceMonth`, `CompetitionOpenSinceYear` (31.78% missing)\n",
    "\n",
    "- Impact: A substantial portion of the data is missing, but these columns provide useful information about when competition started, which can affect sales trends."
   ]
  },
  {
   "cell_type": "code",
   "execution_count": null,
   "metadata": {},
   "outputs": [],
   "source": [
    "logger.info(\"Impute the missing of Computition open year and month\")\n",
    "# Imputing missing values for 'CompetitionOpenSinceMonth' with mode\n",
    "competition_month_mode = train_data['CompetitionOpenSinceMonth'].mode()[0]\n",
    "train_data.fillna({'CompetitionOpenSinceMonth':competition_month_mode}, inplace=True)\n",
    "\n",
    "# Imputing missing values for 'CompetitionOpenSinceYear' with mode\n",
    "competition_year_mode = train_data['CompetitionOpenSinceYear'].mode()[0]\n",
    "train_data.fillna({'CompetitionOpenSinceYear':competition_year_mode}, inplace=True)\n"
   ]
  },
  {
   "cell_type": "markdown",
   "metadata": {},
   "source": [
    "Impute low missing values with media becuase it is less sensetive to outliers"
   ]
  },
  {
   "cell_type": "code",
   "execution_count": null,
   "metadata": {},
   "outputs": [],
   "source": [
    "logger.info(\"Impute CompetitionDistance with median\")\n",
    "# Impute CompetitionDistance with median\n",
    "# Store missing CompetitionDistance for later analysis\n",
    "missing_competition = train_data[train_data['CompetitionDistance'].isna()]\n",
    "\n",
    "train_data.fillna({'CompetitionDistance':train_data['CompetitionDistance'].median()}, inplace=True)\n",
    "test_data.fillna({'CompetitionDistance':test_data['CompetitionDistance'].median()}, inplace=True)\n",
    "        \n",
    "# Impute Open column in test data with mode\n",
    "test_data.fillna({'Open':test_data['Open'].mode()[0]}, inplace=True)"
   ]
  },
  {
   "cell_type": "markdown",
   "metadata": {},
   "source": [
    "**Detect Outliers using Boxplot**\n",
    "\n",
    "Detecting and handling outliers in data is crucial because outliers can distort statistical analyses and machine learning models. The steps and methods to detect and handle outliers depend on the characteristics of the data, and not every variable needs to be checked. Usually, numerical variables are the primary focus for outlier detection."
   ]
  },
  {
   "cell_type": "code",
   "execution_count": null,
   "metadata": {},
   "outputs": [],
   "source": [
    "\n",
    "# Define the variables for outlier detection\n",
    "variables = ['Sales', 'Customers', 'CompetitionDistance']\n",
    "\n",
    "# Check outliers\n",
    "process.check_outlier(variables)\n"
   ]
  },
  {
   "cell_type": "markdown",
   "metadata": {},
   "source": [
    "**Summary**\n",
    "\n",
    "- Both 'Sales' and 'Customers' have a similar pattern of outliers which are significantly higher than the main clusters of data. These outliers might indicate days with unusually high sales or customer visits, possibly due to promotions, holidays, or special events.\n",
    "\n",
    "CompetitionDistance:\n",
    "\n",
    "- The 'CompetitionDistance' variable shows outliers that are very far away from the main cluster, suggesting some stores are exceptionally far from their nearest competitor."
   ]
  },
  {
   "cell_type": "markdown",
   "metadata": {},
   "source": [
    "**Handle Outliers**"
   ]
  },
  {
   "cell_type": "markdown",
   "metadata": {},
   "source": [
    "There are different approaches to handle outliers, here are some approaches\n",
    "\n",
    "- **Trimming**: Remove outliers if they are genuine errors or if they do not contribute to the analysis (e.g., data entry errors).\n",
    "\n",
    "- Winso**rizing: Capping the outliers at a certain percentile (e.g., the 99th percentile) can limit the effect of extreme values.\n",
    "\n",
    "- **Transformation**: Applying transformations such as the logarithm can reduce the effect of outliers and often normalizes the data."
   ]
  },
  {
   "cell_type": "code",
   "execution_count": null,
   "metadata": {},
   "outputs": [],
   "source": [
    "logger.info('Handled Outliers')\n",
    "# Log transformation example for 'CompetitionDistance'\n",
    "train_data['CompetitionDistance_log'] = np.log1p(train_data['CompetitionDistance'])\n",
    "\n",
    "# Winsorizing example for 'Sales' at 95th percentile\n",
    "\n",
    "train_data['Sales_winsorized'] = winsorize(train_data['Sales'], limits=[0, 0.05])\n",
    "\n",
    "# Similarly for 'Customers'\n",
    "train_data['Customers_winsorized'] = winsorize(train_data['Customers'], limits=[0, 0.05])"
   ]
  },
  {
   "cell_type": "markdown",
   "metadata": {},
   "source": [
    "### EDA-Exploratory Analysis"
   ]
  },
  {
   "cell_type": "markdown",
   "metadata": {},
   "source": [
    "Check for distribution in both training and test sets - are the promotions distributed similarly between these two groups?"
   ]
  },
  {
   "cell_type": "code",
   "execution_count": null,
   "metadata": {},
   "outputs": [],
   "source": [
    "logger.info('Importing the visualyzer class from scripts')\n",
    "# Import the Analyzer class\n",
    "from data_visualization import Visualyzer\n",
    "# Create instance of EDAnalyzer\n",
    "vlyr = Visualyzer(train_data, test_data)"
   ]
  },
  {
   "cell_type": "code",
   "execution_count": null,
   "metadata": {},
   "outputs": [],
   "source": [
    "logger.info('Checking the distribtion of promotions')\n",
    "# Check the distributions\n",
    "vlyr.check_promotion_distribution()\n"
   ]
  },
  {
   "cell_type": "markdown",
   "metadata": {},
   "source": [
    "**Summary**\n",
    "\n",
    "- `Promo`: The distributions of one-time promotions (Promo) in both the training and testing sets are quite similar, indicating that the data is balanced regarding these promotions.\n",
    "\n",
    "- `Promo2`: There is a significant difference in the distributions of long-term promotions (`Promo2`). The training set shows a higher proportion of stores not participating in the promotion (`Promo2 = 0`), while the testing set has a higher proportion of participating stores (`Promo2 = 1`).\n"
   ]
  },
  {
   "cell_type": "markdown",
   "metadata": {},
   "source": [
    "Check & compare sales behavior before, during, and after holidays\n"
   ]
  },
  {
   "cell_type": "code",
   "execution_count": null,
   "metadata": {},
   "outputs": [],
   "source": [
    "logger.info('Comparing sales behavior')\n",
    "# Compare sales behaviour\n",
    "vlyr.compare_sales_behavior()"
   ]
  },
  {
   "cell_type": "markdown",
   "metadata": {},
   "source": [
    "**Summary**\n",
    "\n",
    "**Sales After Holidays:**\n",
    "\n",
    " - Sales are slightly higher after holidays compared to other periods. This could suggest increased shopping activity once stores re-open after holiday closures.\n",
    "\n",
    "**Sales Before Holidays:**\n",
    "\n",
    "- Sales remain high before holidays, which might be due to customers preparing for the holiday period, stocking up on products in anticipation of closures or celebrations.\n",
    "\n",
    "**Sales During Holidays:**\n",
    "\n",
    "- Sales during the holiday period are similar to those before and after, indicating that some stores remain open or there is sustained consumer activity during the holiday season.\n",
    "\n",
    "**Sales on Non-Holidays:**\n",
    "\n",
    "- The average sales during non-holiday periods are noticeably lower than during holiday-related periods.  - This suggests that holidays have a strong positive impact on customer activity and sales."
   ]
  },
  {
   "cell_type": "markdown",
   "metadata": {},
   "source": [
    "Find out any seasonal (Christmas, Easter, etc) purchase behaviors"
   ]
  },
  {
   "cell_type": "code",
   "execution_count": null,
   "metadata": {},
   "outputs": [],
   "source": [
    "logger.info('Finding seasonal sales behavior')\n",
    "# Find seasonal sales behavior\n",
    "vlyr.seasonal_sales_behavior()"
   ]
  },
  {
   "cell_type": "markdown",
   "metadata": {},
   "source": [
    "**Summary**\n",
    "\n",
    "- **Easter and Christmas** have the highest average sales, indicating that customers tend to shop more during these holidays.\n",
    "\n",
    "- **Public holidays** also show a significant increase in sales compared to regular days.\n",
    "\n",
    "- **Non-holiday** days have the lowest average sales, which is expected since holidays generally drive more consumer spending."
   ]
  },
  {
   "cell_type": "markdown",
   "metadata": {},
   "source": [
    "What can you say about the correlation between sales and the number of customers?\n"
   ]
  },
  {
   "cell_type": "code",
   "execution_count": null,
   "metadata": {},
   "outputs": [],
   "source": [
    "logger.info('Comparing the correlation between Sales and Customers')\n",
    "# Scatter plot to visualize Sales vs Customers\n",
    "plt.figure(figsize=(8, 3))\n",
    "sns.scatterplot(x='Customers', y='Sales', data=train_data, color='blue', alpha=0.6)\n",
    "\n",
    "# Add labels and title\n",
    "plt.title('Sales vs Customers')\n",
    "plt.xlabel('Number of Customers')\n",
    "plt.ylabel('Sales')\n",
    "\n",
    "plt.show()\n"
   ]
  },
  {
   "cell_type": "markdown",
   "metadata": {},
   "source": [
    "**Summary**\n",
    "\n",
    "- **Upward Trend:** Sales generally increase as the number of customers rises, as shown by the upward slope of the data points.\n",
    "\n",
    "- **Clustering:** The data points cluster around a general upward trendline, suggesting a consistent relationship.\n",
    "\n",
    "- **Outliers:** Although a few outliers deviate notably from the trend, they do not substantially impact the overall positive correlation."
   ]
  },
  {
   "cell_type": "markdown",
   "metadata": {},
   "source": [
    "How does promo affect sales? Are the promos attracting more customers? How does it affect already existing customers?\n"
   ]
  },
  {
   "cell_type": "markdown",
   "metadata": {},
   "source": [
    "Analyze the Effect of Each Promo Type"
   ]
  },
  {
   "cell_type": "code",
   "execution_count": null,
   "metadata": {},
   "outputs": [],
   "source": [
    "logger.info('Analyzing the effect of each Promo type')\n",
    "# Plot the average sales and cstomer in each promotion type\n",
    "vlyr.plot_promo_impact()"
   ]
  },
  {
   "cell_type": "markdown",
   "metadata": {},
   "source": [
    "**Summary**\n",
    "\n",
    "**Impact of Promotions on Sales**\n",
    "\n",
    "- **Promo:** Stores running promotions (Promo=1) see significantly higher sales compared to those not running promotions (Promo=0). This indicates that promotions effectively boost sales.\n",
    "\n",
    "- **Promo2:** Stores with ongoing promotions (Promo2=1) have slightly lower sales than those without (Promo2=0). This suggests that long-term or consecutive promotions might be less effective, potentially due to diminishing returns over time."
   ]
  },
  {
   "cell_type": "markdown",
   "metadata": {},
   "source": [
    "**Impact of Promotions on Existing Customers**\n",
    "\n",
    "- **Promotional Effectiveness:** Both promotional types (Promo and Promo2) attract more customers, with Promo having a stronger impact. This shows that promotional activities are successful in increasing customer traffic.\n",
    "\n",
    "- **Long-Term Promotions:** Although Promo2 continues to attract more customers, the increase is less pronounced compared to Promo. This indicates that while ongoing promotions still attract additional customers, their effectiveness may diminish over time."
   ]
  },
  {
   "cell_type": "markdown",
   "metadata": {},
   "source": [
    "Could the promos be deployed in more effective ways? Which stores should promos be deployed in?\n"
   ]
  },
  {
   "cell_type": "code",
   "execution_count": null,
   "metadata": {},
   "outputs": [],
   "source": [
    "logger.info('Identifying high impact stores in each promotion types')\n",
    "# Visualize highest Store Impact on Promotions\n",
    "vlyr._high_impact_stores(top_n=5)\n"
   ]
  },
  {
   "cell_type": "markdown",
   "metadata": {},
   "source": [
    "**Summary**\n",
    "\n",
    "- **Promo:** Stores like 817 and 1114 show the highest average sales and customer counts, indicating that single promotions significantly boost both metrics. Store 817, with an average of 24,679 in sales and over 3,000 customers, stands out as a top target for future promotions.\n",
    "\n",
    "- **Promo2:** Continuous promotions (Promo2) have a smaller impact on sales, with Store 335 leading at 13,706 in sales. However, these stores still maintain strong customer counts, suggesting Promo2 helps retain customers but may yield lower sales growth compared to single promos."
   ]
  },
  {
   "cell_type": "markdown",
   "metadata": {},
   "source": [
    "**Comparison of Top High-Impact Stores: Promo vs Promo2**"
   ]
  },
  {
   "cell_type": "code",
   "execution_count": null,
   "metadata": {},
   "outputs": [],
   "source": [
    "logger.info('Comparing top high impact stores ')\n",
    " # Ensure 'Store', 'Promo', 'Promo2', 'Sales', and 'Customers' are present in the DataFrame\n",
    "df = train_data.reset_index()\n",
    "required_columns = {'Store', 'Promo', 'Promo2', 'Sales', 'Customers'}\n",
    "if not required_columns.issubset(df.columns):\n",
    "    raise KeyError(f\"One or more required columns are missing: {required_columns}\")\n",
    "\n",
    "# Filter for stores with Promo active and calculate the mean Sales and Customers by store\n",
    "promo_impact = df[df['Promo'] == 1][['Store', 'Sales', 'Customers']].groupby('Store').mean().reset_index()\n",
    "\n",
    "# Filter for stores with Promo2 active and calculate the mean Sales and Customers by store\n",
    "promo2_impact = df[df['Promo2'] == 1][['Store', 'Sales', 'Customers']].groupby('Store').mean().reset_index()\n",
    "\n",
    "# Merge data for comparison\n",
    "common_stores_comparison = pd.merge(promo_impact, promo2_impact, on='Store', suffixes=('_Promo', '_Promo2'))\n"
   ]
  },
  {
   "cell_type": "code",
   "execution_count": null,
   "metadata": {},
   "outputs": [],
   "source": [
    "common_stores_comparison.sort_values(by='Sales_Promo2', ascending=False).head(5)"
   ]
  },
  {
   "cell_type": "markdown",
   "metadata": {},
   "source": [
    "**Summary**\n",
    "\n",
    "- **Promo** drives higher sales compared to Promo2. For example, Store 335 and Store 756 see significantly better sales during Promo. This Promo also attracts more customers in most cases than Promo2\n"
   ]
  },
  {
   "cell_type": "markdown",
   "metadata": {},
   "source": [
    "Trends of customer behavior during store opening and closing times\n"
   ]
  },
  {
   "cell_type": "code",
   "execution_count": null,
   "metadata": {},
   "outputs": [],
   "source": [
    "logger.info('Analyzing the trends of the customer behavior')\n",
    "# Analyze trends of customer behavior\n",
    "vlyr.analyze_trend()\n"
   ]
  },
  {
   "cell_type": "markdown",
   "metadata": {},
   "source": [
    "**Trend Analysis Result**\n",
    "\n",
    "- The number of customers remains relatively stable during weekdays when the store is open.\n",
    "\n",
    "- Sales show a slight decline through weekdays but drop notably on the last weekday (Day 5). However, there is a significant increase in both customer numbers and sales from the weekend days (Day 6-7).\n",
    "\n",
    "**Closed Times:**\n",
    "\n",
    "- Both customer numbers and sales remain constant at zero when the store is closed, as expected.\n"
   ]
  },
  {
   "cell_type": "markdown",
   "metadata": {},
   "source": [
    "Which stores are open on all weekdays? How does that affect their sales on weekends? \n"
   ]
  },
  {
   "cell_type": "code",
   "execution_count": null,
   "metadata": {},
   "outputs": [],
   "source": [
    "# Ensure you have the correct DataFrame and reset index if 'Store' is the index\n",
    "data = train_data.copy()  # Use your actual DataFrame\n",
    "data = data.reset_index()  # Ensure 'Store' is a column, not the index\n",
    "\n",
    "# Filter stores open on weekdays (Monday to Friday) and group by 'Store'\n",
    "weekday_open_stores = data[(data['DayOfWeek'] <= 5) & (data['Open'] == 1)]\n",
    "\n",
    "# Count the number of unique weekdays each store is open\n",
    "open_weekday_stores = weekday_open_stores.groupby('Store')['DayOfWeek'].nunique()\n",
    "\n",
    "# Identify stores that are open on all weekdays (5 days)\n",
    "open_all_weekdays = open_weekday_stores[open_weekday_stores == 5].index\n",
    "\n",
    "# Calculate average weekend sales for stores open all weekdays\n",
    "weekend_sales = data[(data['Store'].isin(open_all_weekdays)) & (data['DayOfWeek'] >= 6)]\n",
    "weekend_sales_summary = weekend_sales.groupby('Store')['Sales'].mean()\n",
    "\n",
    "# Calculate average weekday sales for the same stores\n",
    "weekday_sales = data[(data['Store'].isin(open_all_weekdays)) & (data['DayOfWeek'] <= 5)]\n",
    "weekday_sales_summary = weekday_sales.groupby('Store')['Sales'].mean()\n",
    "\n",
    "# Create a DataFrame comparing average weekday and weekend sales\n",
    "comparison = pd.DataFrame({\n",
    "    'Weekday Sales': weekday_sales_summary,\n",
    "    'Weekend Sales': weekend_sales_summary\n",
    "})\n",
    "\n",
    "# Display the comparison DataFrame\n",
    "display(comparison.sort_values(by='Weekday Sales', ascending=False))\n"
   ]
  },
  {
   "cell_type": "code",
   "execution_count": null,
   "metadata": {},
   "outputs": [],
   "source": [
    "logger.info('Visualizing which store are open in all weekdays')\n",
    "# Visualize the comparison for better understanding\n",
    "plt.figure(figsize=(10, 6))\n",
    "sales_comparison = comparison.copy()\n",
    "plt.figure(figsize=(10, 4))\n",
    "\n",
    "# Plot lines for weekday and weekend sales\n",
    "plt.plot(sales_comparison.index, sales_comparison['Weekday Sales'], marker='o', label='Weekday Sales', color='#1f77b4')\n",
    "plt.plot(sales_comparison.index, sales_comparison['Weekend Sales'], marker='o', label='Weekend Sales', color='#ff7f0e')\n",
    "\n",
    "# Labels and formatting\n",
    "plt.xlabel('Store', fontsize=12)\n",
    "plt.ylabel('Sales', fontsize=12)\n",
    "plt.title('Comparison of Weekday and Weekend Sales by Store', fontsize=14)\n",
    "plt.xticks(sales_comparison.index, ['Store ' + str(i) for i in sales_comparison.index], rotation=45)\n",
    "plt.legend()\n",
    "plt.tight_layout()\n",
    "plt.show()"
   ]
  },
  {
   "cell_type": "markdown",
   "metadata": {},
   "source": [
    "**Summary**\n",
    "\n",
    "**Higher Weekday Sales Correlate with Higher Weekend Sales:**\n",
    "\n",
    "- Stores with higher sales during weekdays tend to also have higher sales on weekends.\n",
    "\n",
    "**Sales Trend**\n",
    "\n",
    "- There seems to be a pattern where stores that perform better during the weekdays also perform better on weekends. This suggests that strong weekday performance may contribute to better weekend sales."
   ]
  },
  {
   "cell_type": "markdown",
   "metadata": {},
   "source": [
    "Check how the assortment type affects sales"
   ]
  },
  {
   "cell_type": "code",
   "execution_count": null,
   "metadata": {},
   "outputs": [],
   "source": [
    "logger.info('Visualizing the sales by assortemnt type')\n",
    "# Visualize the sales by assortment\n",
    "vlyr.plot_assortment_sales()\n"
   ]
  },
  {
   "cell_type": "markdown",
   "metadata": {},
   "source": [
    "**Summary**\n",
    "\n",
    "**Weekday Sales:**\n",
    "\n",
    "- **Extended and Extra** assortment types have consistently higher average weekday sales compared to the Basic assortment type.\n",
    "\n",
    "- **Extra** has the highest average weekday sales, suggesting that it attracts customers with higher spending power or a demand for a wider range of products.\n",
    "\n",
    "**Weekend Sales:**\n",
    "\n",
    "- The Extra assortment type again shows the highest average weekend sales. However, the difference between Extended and Basic is less pronounced on weekends, indicating that the impact of assortment type might be less significant during this period."
   ]
  },
  {
   "cell_type": "markdown",
   "metadata": {},
   "source": [
    "How does the distance to the next competitor affect sales? What if the store and its competitors all happen to be in city centers, does the distance matter in that case?\n"
   ]
  },
  {
   "cell_type": "markdown",
   "metadata": {},
   "source": [
    "To explore how the distance to the nearest competitor affects sales, the key variable to consider is CompetitionDistance\n",
    "\n",
    "- Step 1: Plot Sales vs. CompetitionDistance.\n",
    "\n",
    "- Step 2: Group stores into distance bins and compare average sales across those bins.\n",
    "\n",
    "- Step 3: Add filters for city centers (if possible) and rerun the \n",
    "analysis to see if the effect of CompetitionDistance changes.\n",
    "\n",
    "- Step 4: Explore interactions with Promo, StateHoliday, SchoolHoliday, StoreType, and Assortment."
   ]
  },
  {
   "cell_type": "code",
   "execution_count": null,
   "metadata": {},
   "outputs": [],
   "source": [
    "logger.info('Understanding sales vs competition distance')\n",
    "# Filter the data to only include stores that are open\n",
    "df = train_data[train_data['Open'] == 1]\n",
    "\n",
    "# Scatter plot: Sales vs CompetitionDistance\n",
    "plt.figure(figsize=(10,4))\n",
    "sns.scatterplot(x='CompetitionDistance', y='Sales', data=df, alpha=0.5)\n",
    "plt.title('Sales vs CompetitionDistance')\n",
    "plt.xlabel('CompetitionDistance (meters)')\n",
    "plt.ylabel('Sales')\n",
    "plt.show()"
   ]
  },
  {
   "cell_type": "markdown",
   "metadata": {},
   "source": [
    " Grouping Stores by Distance"
   ]
  },
  {
   "cell_type": "code",
   "execution_count": null,
   "metadata": {},
   "outputs": [],
   "source": [
    "logger.info('Grouping sales by distance')\n",
    "# Create bins for CompetitionDistance\n",
    "bins = [0, 500, 1000, 2000, 5000, df['CompetitionDistance'].max()]\n",
    "labels = ['<500m', '500-1000m', '1000-2000m', '2000-5000m', '>5000m']\n",
    "df.loc[:,'DistanceBin'] = pd.cut(df['CompetitionDistance'], bins=bins, labels=labels, include_lowest=True)\n",
    "\n",
    "# Group by DistanceBin and calculate the mean Sales\n",
    "distance_sales = df.groupby('DistanceBin', observed=False)['Sales'].mean().reset_index()\n",
    "\n",
    "# Bar plot: Average Sales by Distance Bin\n",
    "plt.figure(figsize=(10,4))\n",
    "sns.barplot(x='DistanceBin', y='Sales', hue='DistanceBin', data=distance_sales, palette='Blues_d')\n",
    "plt.title('Average Sales by Competition Distance')\n",
    "plt.xlabel('Competition Distance Bin')\n",
    "plt.ylabel('Average Sales')\n",
    "plt.show()\n"
   ]
  },
  {
   "cell_type": "markdown",
   "metadata": {},
   "source": [
    "City Center Analysis"
   ]
  },
  {
   "cell_type": "code",
   "execution_count": null,
   "metadata": {},
   "outputs": [],
   "source": [
    "logger.info('Identifying the city center')\n",
    "# Create a flag for city center stores (CompetitionDistance < 500 meters)\n",
    "df.loc[:,'CityCenter'] = df['CompetitionDistance'] < 500\n",
    "\n",
    "# Compare sales for stores in city centers vs non-city centers\n",
    "city_vs_non_city = df.groupby('CityCenter')['Sales'].mean().reset_index()\n",
    "\n",
    "# Bar plot: Average Sales in City Center vs Non-City Center\n",
    "plt.figure(figsize=(10,4))\n",
    "sns.barplot(x='CityCenter', y='Sales', hue='CityCenter', legend=False, data=city_vs_non_city, palette='coolwarm')\n",
    "plt.title('Average Sales: City Center vs Non-City Center')\n",
    "plt.xlabel('City Center (True = City, False = Non-City)')\n",
    "plt.ylabel('Average Sales')\n",
    "plt.xticks([0, 1], ['Non-City Center', 'City Center'])\n",
    "plt.show()\n"
   ]
  },
  {
   "cell_type": "markdown",
   "metadata": {},
   "source": [
    "**Key Insights**\n",
    "\n",
    "- Stores with nearby competitors (<500m) outperform other stores in terms of sales, likely due to higher customer foot traffic and location in busy areas like city centers.\n",
    "\n",
    "- Mid-range competition (1000-2000m) also supports slightly higher-than-average sales, suggesting that stores in moderately competitive zones still perform well, perhaps benefiting from drawing customers from a wider range of stores.\n",
    "\n",
    "- City-center stores show significantly higher average sales than non-city-center stores, which highlights the importance of location in terms of foot traffic and competition."
   ]
  },
  {
   "cell_type": "markdown",
   "metadata": {},
   "source": [
    "Interaction with Promotions"
   ]
  },
  {
   "cell_type": "code",
   "execution_count": null,
   "metadata": {},
   "outputs": [],
   "source": [
    "logger.info('How Competition distance interacting with promotion')\n",
    "# Plot the effect of CompetitionDistance on Sales, colored by Promo\n",
    "plt.figure(figsize=(10,4))\n",
    "sns.scatterplot(x='CompetitionDistance', y='Sales', hue='Promo', data=df, alpha=0.5, palette='Set1')\n",
    "plt.title('Sales vs CompetitionDistance (Colored by Promo)')\n",
    "plt.xlabel('CompetitionDistance (meters)')\n",
    "plt.ylabel('Sales')\n",
    "plt.legend(title='Promo')\n",
    "plt.show()\n"
   ]
  },
  {
   "cell_type": "markdown",
   "metadata": {},
   "source": [
    "How does the opening or reopening of new competitors affect stores? Check for stores with NA as competitor distance but later on have values for competitor distance"
   ]
  },
  {
   "cell_type": "markdown",
   "metadata": {},
   "source": [
    "To analyze how the opening or reopening of new competitors affects stores, particularly for those with initially missing competitor distance values (NA) that later receive valid distances, you can follow these steps:\n",
    "\n",
    "- Filter the Data: Identify stores where CompetitionDistance is NA and then check for subsequent entries where this field has valid values.\n",
    "\n",
    "- Analyze Sales Performance: Compare sales performance before and after the distance to competitors becomes available.\n",
    "\n",
    "- Summarize Findings: Look for trends, such as changes in sales, customer counts, or any patterns indicating the impact of nearby competitors"
   ]
  },
  {
   "cell_type": "code",
   "execution_count": null,
   "metadata": {},
   "outputs": [],
   "source": [
    "logger.info('Analyzing the stores before and after opening ')\n",
    "# Step 1: Ensure the 'CompetitionDistance' and 'CompetitionOpenSinceMonth/Year' columns are properly set\n",
    "data = train_data.reset_index()\n",
    "\n",
    "# Step 2: Filter stores with initially missing CompetitionDistance (implying no competitor initially)\n",
    "stores_with_missing_competition = missing_competition.reset_index()\n",
    "\n",
    "# Step 3: Get unique stores with missing competition distance\n",
    "unique_stores_with_na = stores_with_missing_competition['Store'].unique()\n",
    "\n",
    "# Step 4: Check for subsequent entries of these stores where CompetitionDistance becomes non-NA\n",
    "# Additionally, look for valid CompetitionOpenSinceMonth and Year\n",
    "stores_with_competition_appeared = data[\n",
    "    (data['Store'].isin(unique_stores_with_na)) & \n",
    "    (data['CompetitionDistance'].notna()) & \n",
    "    (data['CompetitionOpenSinceMonth'].notna()) & \n",
    "    (data['CompetitionOpenSinceYear'].notna())\n",
    "]\n",
    "\n",
    "# Step 5: Compare sales before and after the competitor opening (based on CompetitionOpenSinceMonth/Year)\n",
    "before_after_analysis = []\n",
    "\n",
    "for store in unique_stores_with_na:\n",
    "    # Get the data for this store\n",
    "    store_data = data[data['Store'] == store].copy()\n",
    "    \n",
    "    # Find the first entry where the competitor opened (non-NA CompetitionDistance)\n",
    "    first_valid_competition_entry = store_data[store_data['CompetitionDistance'].notna()].index.min()\n",
    "    \n",
    "    # Ensure CompetitionOpenSinceMonth/Year is present to track when the competitor opened\n",
    "    if pd.notna(first_valid_competition_entry):\n",
    "        competition_open_date = store_data.loc[first_valid_competition_entry, ['CompetitionOpenSinceMonth', 'CompetitionOpenSinceYear']]\n",
    "        \n",
    "        # Calculate sales before and after the competitor opening\n",
    "        before_competition_sales = store_data.loc[:first_valid_competition_entry - 1, 'Sales'].mean()\n",
    "        after_competition_sales = store_data.loc[first_valid_competition_entry:, 'Sales'].mean()\n",
    "        \n",
    "        # Append results to the list\n",
    "        before_after_analysis.append({\n",
    "            'Store': store,\n",
    "            'Before Competitor (Sales)': before_competition_sales,\n",
    "            'After Competitor (Sales)': after_competition_sales\n",
    "        })\n",
    "\n",
    "# Convert the list to a DataFrame\n",
    "before_after_analysis_df = pd.DataFrame(before_after_analysis)\n",
    "\n",
    "# Step 6: Display the analysis of sales before and after competitor appearance\n",
    "display(before_after_analysis_df)"
   ]
  },
  {
   "cell_type": "markdown",
   "metadata": {},
   "source": [
    "**Key Findings:**\n",
    "\n",
    "**Sales Before Competitor Presence:** For the stores analyzed (Store 291, Store 622, and Store 879), there were no sales data available prior to the competitors opening, as indicated by the NaN values. This suggests that these stores may have been newly established or their sales data was not captured before the competitors became relevant.\n",
    "\n",
    "**Sales After Competitor Opening:**\n",
    "\n",
    "Store 291 recorded an average sales figure of 6643.28 after the competitor opened.\n",
    "Store 622 showed average sales of 3593.72.\n",
    "Store 879 achieved average sales of 3087.83."
   ]
  },
  {
   "cell_type": "code",
   "execution_count": 73,
   "metadata": {},
   "outputs": [],
   "source": [
    "# Save both the test and train data to csv for preprocessing\n",
    "\n",
    "train_data.to_csv('../data/processed/train_cleaned.csv', index=False)\n",
    "test_data.to_csv('../data/processed/test_cleaned.csv', index=False)"
   ]
  }
 ],
 "metadata": {
  "kernelspec": {
   "display_name": ".venv-w4",
   "language": "python",
   "name": "python3"
  },
  "language_info": {
   "codemirror_mode": {
    "name": "ipython",
    "version": 3
   },
   "file_extension": ".py",
   "mimetype": "text/x-python",
   "name": "python",
   "nbconvert_exporter": "python",
   "pygments_lexer": "ipython3",
   "version": "3.12.8"
  }
 },
 "nbformat": 4,
 "nbformat_minor": 2
}
